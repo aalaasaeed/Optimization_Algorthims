{
 "cells": [
  {
   "cell_type": "markdown",
   "id": "32b92576",
   "metadata": {
    "id": "32b92576"
   },
   "source": [
    "<b>In this practical exam you are required to do the following:</b><b>\n",
    "1. Implement the Adam (Batch Version) algorithm to train a multivariable linear regression model.\n",
    "2. Update your implementation to work for mini-batch.\n",
    "</b>\n",
    "\n",
    "### Please fulfil the following requirements:\n",
    "<br>\n",
    "<b>\n",
    "    \n",
    "    1. Each implementation must be in a sepearate function. i.e. two separate functions.\n",
    "    2. Check each function on the data in the attached file.\n",
    "    3. You must obtain r2-score > 0.9 using each functiion.\n",
    "    4. You must plot the following curves.\n",
    "        - Loss vs. iterations.\n",
    "        - Loss vs. each parameter (i.e. loss vs theta 0, loss vs. theta 1 .... etc.).\n",
    "    5. Choose hyper parameters to obtain the required accuracy.\n",
    "    6. The implementation must be vectoried and calculations must be performed as matrix vector multiplications.\n",
    "    7. Apply the stop conditions (gradient < 0.001 and cost convergence check).                                            \n",
    "</b>\n",
    "    \n",
    "<b><i>Note: You are allowed to use the code you developed during practical sessions. However, it should be your own code.</i></b>"
   ]
  },
  {
   "cell_type": "markdown",
   "id": "db57d373",
   "metadata": {
    "id": "db57d373"
   },
   "source": [
    "## Best of Luck..."
   ]
  },
  {
   "cell_type": "code",
   "execution_count": 1,
   "id": "0cbf0144",
   "metadata": {
    "id": "0cbf0144"
   },
   "outputs": [],
   "source": [
    "import numpy as np\n",
    "import matplotlib.pyplot as plt\n",
    "%matplotlib inline\n",
    "import pandas as pd"
   ]
  },
  {
   "cell_type": "code",
   "execution_count": 2,
   "id": "cb8bdc0d",
   "metadata": {},
   "outputs": [],
   "source": [
    "df = pd.read_csv(\"MultipleLR.csv\", header = None)"
   ]
  },
  {
   "cell_type": "code",
   "execution_count": 3,
   "id": "a9c81d0b",
   "metadata": {},
   "outputs": [
    {
     "data": {
      "text/html": [
       "<div>\n",
       "<style scoped>\n",
       "    .dataframe tbody tr th:only-of-type {\n",
       "        vertical-align: middle;\n",
       "    }\n",
       "\n",
       "    .dataframe tbody tr th {\n",
       "        vertical-align: top;\n",
       "    }\n",
       "\n",
       "    .dataframe thead th {\n",
       "        text-align: right;\n",
       "    }\n",
       "</style>\n",
       "<table border=\"1\" class=\"dataframe\">\n",
       "  <thead>\n",
       "    <tr style=\"text-align: right;\">\n",
       "      <th></th>\n",
       "      <th>0</th>\n",
       "      <th>1</th>\n",
       "      <th>2</th>\n",
       "      <th>3</th>\n",
       "    </tr>\n",
       "  </thead>\n",
       "  <tbody>\n",
       "    <tr>\n",
       "      <th>0</th>\n",
       "      <td>73</td>\n",
       "      <td>80</td>\n",
       "      <td>75</td>\n",
       "      <td>152</td>\n",
       "    </tr>\n",
       "    <tr>\n",
       "      <th>1</th>\n",
       "      <td>93</td>\n",
       "      <td>88</td>\n",
       "      <td>93</td>\n",
       "      <td>185</td>\n",
       "    </tr>\n",
       "    <tr>\n",
       "      <th>2</th>\n",
       "      <td>89</td>\n",
       "      <td>91</td>\n",
       "      <td>90</td>\n",
       "      <td>180</td>\n",
       "    </tr>\n",
       "    <tr>\n",
       "      <th>3</th>\n",
       "      <td>96</td>\n",
       "      <td>98</td>\n",
       "      <td>100</td>\n",
       "      <td>196</td>\n",
       "    </tr>\n",
       "    <tr>\n",
       "      <th>4</th>\n",
       "      <td>73</td>\n",
       "      <td>66</td>\n",
       "      <td>70</td>\n",
       "      <td>142</td>\n",
       "    </tr>\n",
       "  </tbody>\n",
       "</table>\n",
       "</div>"
      ],
      "text/plain": [
       "    0   1    2    3\n",
       "0  73  80   75  152\n",
       "1  93  88   93  185\n",
       "2  89  91   90  180\n",
       "3  96  98  100  196\n",
       "4  73  66   70  142"
      ]
     },
     "execution_count": 3,
     "metadata": {},
     "output_type": "execute_result"
    }
   ],
   "source": [
    "df.head()"
   ]
  },
  {
   "cell_type": "code",
   "execution_count": 4,
   "id": "08df11fb",
   "metadata": {},
   "outputs": [],
   "source": [
    "df_arr = np.array(df)"
   ]
  },
  {
   "cell_type": "code",
   "execution_count": 5,
   "id": "4f792c04",
   "metadata": {},
   "outputs": [
    {
     "data": {
      "text/plain": [
       "array([[ 73,  80,  75, 152],\n",
       "       [ 93,  88,  93, 185],\n",
       "       [ 89,  91,  90, 180],\n",
       "       [ 96,  98, 100, 196],\n",
       "       [ 73,  66,  70, 142],\n",
       "       [ 53,  46,  55, 101],\n",
       "       [ 69,  74,  77, 149],\n",
       "       [ 47,  56,  60, 115],\n",
       "       [ 87,  79,  90, 175],\n",
       "       [ 79,  70,  88, 164],\n",
       "       [ 69,  70,  73, 141],\n",
       "       [ 70,  65,  74, 141],\n",
       "       [ 93,  95,  91, 184],\n",
       "       [ 79,  80,  73, 152],\n",
       "       [ 70,  73,  78, 148],\n",
       "       [ 93,  89,  96, 192],\n",
       "       [ 78,  75,  68, 147],\n",
       "       [ 81,  90,  93, 183],\n",
       "       [ 88,  92,  86, 177],\n",
       "       [ 78,  83,  77, 159],\n",
       "       [ 82,  86,  90, 177],\n",
       "       [ 86,  82,  89, 175],\n",
       "       [ 78,  83,  85, 175],\n",
       "       [ 76,  83,  71, 149],\n",
       "       [ 96,  93,  95, 192]], dtype=int64)"
      ]
     },
     "execution_count": 5,
     "metadata": {},
     "output_type": "execute_result"
    }
   ],
   "source": [
    "df_arr"
   ]
  },
  {
   "cell_type": "code",
   "execution_count": 6,
   "id": "e235daf6",
   "metadata": {},
   "outputs": [],
   "source": [
    "df_x = df.iloc[:,0:3]"
   ]
  },
  {
   "cell_type": "code",
   "execution_count": 7,
   "id": "793fb164",
   "metadata": {},
   "outputs": [
    {
     "name": "stdout",
     "output_type": "stream",
     "text": [
      "[[ 73  80  75]\n",
      " [ 93  88  93]\n",
      " [ 89  91  90]\n",
      " [ 96  98 100]\n",
      " [ 73  66  70]\n",
      " [ 53  46  55]\n",
      " [ 69  74  77]\n",
      " [ 47  56  60]\n",
      " [ 87  79  90]\n",
      " [ 79  70  88]\n",
      " [ 69  70  73]\n",
      " [ 70  65  74]\n",
      " [ 93  95  91]\n",
      " [ 79  80  73]\n",
      " [ 70  73  78]\n",
      " [ 93  89  96]\n",
      " [ 78  75  68]\n",
      " [ 81  90  93]\n",
      " [ 88  92  86]\n",
      " [ 78  83  77]\n",
      " [ 82  86  90]\n",
      " [ 86  82  89]\n",
      " [ 78  83  85]\n",
      " [ 76  83  71]\n",
      " [ 96  93  95]]\n"
     ]
    }
   ],
   "source": [
    "X = np.array(df_x)\n",
    "print(X)"
   ]
  },
  {
   "cell_type": "code",
   "execution_count": 8,
   "id": "1623f906",
   "metadata": {},
   "outputs": [],
   "source": [
    "df_y = df.iloc[:,3]"
   ]
  },
  {
   "cell_type": "code",
   "execution_count": 9,
   "id": "4ba152bb",
   "metadata": {},
   "outputs": [],
   "source": [
    "y = np.array(df_y)"
   ]
  },
  {
   "cell_type": "code",
   "execution_count": 10,
   "id": "f19a835b",
   "metadata": {},
   "outputs": [
    {
     "data": {
      "text/plain": [
       "array([152, 185, 180, 196, 142, 101, 149, 115, 175, 164, 141, 141, 184,\n",
       "       152, 148, 192, 147, 183, 177, 159, 177, 175, 175, 149, 192],\n",
       "      dtype=int64)"
      ]
     },
     "execution_count": 10,
     "metadata": {},
     "output_type": "execute_result"
    }
   ],
   "source": [
    "y"
   ]
  },
  {
   "cell_type": "code",
   "execution_count": 11,
   "id": "bec731e8",
   "metadata": {},
   "outputs": [],
   "source": [
    "def  cal_cost(theta,X,y): \n",
    "    m = len(y)\n",
    "    \n",
    "    predictions = X.dot(theta)\n",
    "    cost = (1/2*m) * np.sum(np.square(predictions-y))\n",
    "    return cost"
   ]
  },
  {
   "cell_type": "markdown",
   "id": "ceb41ad8",
   "metadata": {},
   "source": [
    "### Batch - Adam - Gradient Descent"
   ]
  },
  {
   "cell_type": "code",
   "execution_count": 12,
   "id": "c265c609",
   "metadata": {},
   "outputs": [],
   "source": [
    "def batch_adam_GD(X, y, theta, learning_rate=0.1, epsilon =1e-8, beta1 = 0.9, beta2 = 0.9, max_iterations=100):\n",
    "    \n",
    "    \n",
    "    m = len(y)\n",
    "    \n",
    "    #Lists of (cost , thetas, gradients)\n",
    "    cost_list = np.zeros(max_iterations)\n",
    "    theta_list = np.zeros((max_iterations,4))\n",
    "    gd_list = []\n",
    "    \n",
    "    #Current V\n",
    "    v_thetas = np.zeros(len(X[0]))\n",
    "    \n",
    "    #Current M\n",
    "    m_thetas = np.zeros(len(X[0]))\n",
    "    #The First for loop , loops over epochs\n",
    "    for it in range(0,max_iterations):\n",
    "        \n",
    "        prediction = np.dot(X,theta)\n",
    "        \n",
    "        gd =  X.T.dot((prediction - y))\n",
    "        gd_list.append(gd)\n",
    "        \n",
    "        m_thetas = (beta1 * m_thetas) + (1 - beta1)*(gd)\n",
    "        \n",
    "        v_thetas = (beta2 * v_thetas) + (1-beta2)*(gd)**2\n",
    "        \n",
    "        m_hat = m_thetas/(1-(beta1**(it+1)))\n",
    "        v_hat = v_thetas/(1-(beta2**(it+1)))\n",
    "        \n",
    "        theta = theta - (learning_rate/(np.sqrt(v_hat)+epsilon))* m_hat\n",
    "        \n",
    "        theta_list[it,:] = theta.T\n",
    "        \n",
    "        cost = cal_cost(theta,X,y)\n",
    "        cost_list[it] = cost\n",
    "        \n",
    "        if(it>0):\n",
    "            if abs(cost_list[it-1] - cost_list[it] < 0.001):\n",
    "                break\n",
    "            if abs(np.linalg.norm([gd_list[it-1]])-np.linalg.norm([gd_list[it]]))< 0.001:\n",
    "                break\n",
    "        \n",
    "    return theta, cost_list[:it], theta_list[:it], it"
   ]
  },
  {
   "cell_type": "code",
   "execution_count": 13,
   "id": "1b741181",
   "metadata": {},
   "outputs": [
    {
     "name": "stdout",
     "output_type": "stream",
     "text": [
      "The Number of Iterations :  677\n",
      "The Thetas :  [0.67315204 0.67311209 0.67309869 0.67338631]\n",
      "The Cost History :  [8.35384844e+06 8.32899643e+06 8.30418147e+06 8.27940356e+06\n",
      " 8.25466272e+06 8.22995893e+06 8.20529221e+06 8.18066256e+06\n",
      " 8.15606999e+06 8.13151449e+06 8.10699607e+06 8.08251474e+06\n",
      " 8.05807049e+06 8.03366333e+06 8.00929327e+06 7.98496029e+06\n",
      " 7.96066441e+06 7.93640563e+06 7.91218394e+06 7.88799936e+06\n",
      " 7.86385187e+06 7.83974148e+06 7.81566818e+06 7.79163199e+06\n",
      " 7.76763290e+06 7.74367090e+06 7.71974600e+06 7.69585820e+06\n",
      " 7.67200749e+06 7.64819388e+06 7.62441736e+06 7.60067793e+06\n",
      " 7.57697559e+06 7.55331034e+06 7.52968218e+06 7.50609111e+06\n",
      " 7.48253712e+06 7.45902021e+06 7.43554038e+06 7.41209763e+06\n",
      " 7.38869196e+06 7.36532337e+06 7.34199185e+06 7.31869740e+06\n",
      " 7.29544002e+06 7.27221971e+06 7.24903648e+06 7.22589030e+06\n",
      " 7.20278120e+06 7.17970915e+06 7.15667417e+06 7.13367625e+06\n",
      " 7.11071539e+06 7.08779158e+06 7.06490484e+06 7.04205515e+06\n",
      " 7.01924251e+06 6.99646693e+06 6.97372841e+06 6.95102693e+06\n",
      " 6.92836251e+06 6.90573514e+06 6.88314481e+06 6.86059154e+06\n",
      " 6.83807531e+06 6.81559613e+06 6.79315400e+06 6.77074892e+06\n",
      " 6.74838088e+06 6.72604989e+06 6.70375594e+06 6.68149903e+06\n",
      " 6.65927917e+06 6.63709636e+06 6.61495058e+06 6.59284185e+06\n",
      " 6.57077016e+06 6.54873552e+06 6.52673791e+06 6.50477735e+06\n",
      " 6.48285383e+06 6.46096735e+06 6.43911791e+06 6.41730551e+06\n",
      " 6.39553015e+06 6.37379183e+06 6.35209056e+06 6.33042632e+06\n",
      " 6.30879912e+06 6.28720896e+06 6.26565584e+06 6.24413976e+06\n",
      " 6.22266072e+06 6.20121872e+06 6.17981376e+06 6.15844584e+06\n",
      " 6.13711495e+06 6.11582111e+06 6.09456430e+06 6.07334454e+06\n",
      " 6.05216181e+06 6.03101612e+06 6.00990747e+06 5.98883586e+06\n",
      " 5.96780128e+06 5.94680375e+06 5.92584325e+06 5.90491979e+06\n",
      " 5.88403337e+06 5.86318399e+06 5.84237165e+06 5.82159634e+06\n",
      " 5.80085808e+06 5.78015685e+06 5.75949266e+06 5.73886551e+06\n",
      " 5.71827539e+06 5.69772232e+06 5.67720628e+06 5.65672728e+06\n",
      " 5.63628532e+06 5.61588040e+06 5.59551251e+06 5.57518167e+06\n",
      " 5.55488786e+06 5.53463109e+06 5.51441136e+06 5.49422866e+06\n",
      " 5.47408301e+06 5.45397439e+06 5.43390281e+06 5.41386827e+06\n",
      " 5.39387077e+06 5.37391030e+06 5.35398687e+06 5.33410048e+06\n",
      " 5.31425113e+06 5.29443882e+06 5.27466354e+06 5.25492531e+06\n",
      " 5.23522411e+06 5.21555995e+06 5.19593282e+06 5.17634274e+06\n",
      " 5.15678969e+06 5.13727368e+06 5.11779471e+06 5.09835278e+06\n",
      " 5.07894789e+06 5.05958003e+06 5.04024921e+06 5.02095543e+06\n",
      " 5.00169869e+06 4.98247898e+06 4.96329631e+06 4.94415069e+06\n",
      " 4.92504210e+06 4.90597054e+06 4.88693603e+06 4.86793855e+06\n",
      " 4.84897811e+06 4.83005471e+06 4.81116835e+06 4.79231902e+06\n",
      " 4.77350674e+06 4.75473149e+06 4.73599328e+06 4.71729211e+06\n",
      " 4.69862797e+06 4.68000087e+06 4.66141082e+06 4.64285779e+06\n",
      " 4.62434181e+06 4.60586287e+06 4.58742096e+06 4.56901609e+06\n",
      " 4.55064826e+06 4.53231747e+06 4.51402371e+06 4.49576700e+06\n",
      " 4.47754732e+06 4.45936468e+06 4.44121907e+06 4.42311051e+06\n",
      " 4.40503898e+06 4.38700449e+06 4.36900704e+06 4.35104663e+06\n",
      " 4.33312325e+06 4.31523691e+06 4.29738761e+06 4.27957535e+06\n",
      " 4.26180013e+06 4.24406194e+06 4.22636080e+06 4.20869669e+06\n",
      " 4.19106961e+06 4.17347958e+06 4.15592658e+06 4.13841063e+06\n",
      " 4.12093171e+06 4.10348982e+06 4.08608498e+06 4.06871717e+06\n",
      " 4.05138640e+06 4.03409267e+06 4.01683598e+06 3.99961633e+06\n",
      " 3.98243371e+06 3.96528813e+06 3.94817959e+06 3.93110809e+06\n",
      " 3.91407362e+06 3.89707620e+06 3.88011581e+06 3.86319246e+06\n",
      " 3.84630614e+06 3.82945687e+06 3.81264463e+06 3.79586943e+06\n",
      " 3.77913127e+06 3.76243014e+06 3.74576606e+06 3.72913901e+06\n",
      " 3.71254900e+06 3.69599603e+06 3.67948009e+06 3.66300120e+06\n",
      " 3.64655934e+06 3.63015452e+06 3.61378673e+06 3.59745599e+06\n",
      " 3.58116228e+06 3.56490561e+06 3.54868598e+06 3.53250339e+06\n",
      " 3.51635783e+06 3.50024931e+06 3.48417783e+06 3.46814339e+06\n",
      " 3.45214598e+06 3.43618562e+06 3.42026229e+06 3.40437600e+06\n",
      " 3.38852674e+06 3.37271453e+06 3.35693935e+06 3.34120121e+06\n",
      " 3.32550011e+06 3.30983605e+06 3.29420902e+06 3.27861903e+06\n",
      " 3.26306608e+06 3.24755017e+06 3.23207129e+06 3.21662946e+06\n",
      " 3.20122466e+06 3.18585690e+06 3.17052617e+06 3.15523249e+06\n",
      " 3.13997584e+06 3.12475623e+06 3.10957366e+06 3.09442812e+06\n",
      " 3.07931962e+06 3.06424816e+06 3.04921374e+06 3.03421636e+06\n",
      " 3.01925601e+06 3.00433270e+06 2.98944643e+06 2.97459720e+06\n",
      " 2.95978501e+06 2.94500985e+06 2.93027173e+06 2.91557065e+06\n",
      " 2.90090660e+06 2.88627960e+06 2.87168963e+06 2.85713670e+06\n",
      " 2.84262080e+06 2.82814195e+06 2.81370013e+06 2.79929535e+06\n",
      " 2.78492761e+06 2.77059690e+06 2.75630324e+06 2.74204661e+06\n",
      " 2.72782702e+06 2.71364446e+06 2.69949895e+06 2.68539047e+06\n",
      " 2.67131903e+06 2.65728462e+06 2.64328726e+06 2.62932693e+06\n",
      " 2.61540364e+06 2.60151739e+06 2.58766817e+06 2.57385600e+06\n",
      " 2.56008086e+06 2.54634275e+06 2.53264169e+06 2.51897766e+06\n",
      " 2.50535067e+06 2.49176072e+06 2.47820781e+06 2.46469193e+06\n",
      " 2.45121309e+06 2.43777129e+06 2.42436653e+06 2.41099880e+06\n",
      " 2.39766811e+06 2.38437446e+06 2.37111785e+06 2.35789827e+06\n",
      " 2.34471574e+06 2.33157024e+06 2.31846177e+06 2.30539035e+06\n",
      " 2.29235596e+06 2.27935861e+06 2.26639830e+06 2.25347502e+06\n",
      " 2.24058878e+06 2.22773958e+06 2.21492742e+06 2.20215229e+06\n",
      " 2.18941420e+06 2.17671315e+06 2.16404914e+06 2.15142217e+06\n",
      " 2.13883223e+06 2.12627933e+06 2.11376346e+06 2.10128464e+06\n",
      " 2.08884285e+06 2.07643810e+06 2.06407038e+06 2.05173971e+06\n",
      " 2.03944607e+06 2.02718947e+06 2.01496990e+06 2.00278738e+06\n",
      " 1.99064189e+06 1.97853344e+06 1.96646202e+06 1.95442764e+06\n",
      " 1.94243030e+06 1.93047000e+06 1.91854674e+06 1.90666051e+06\n",
      " 1.89481132e+06 1.88299916e+06 1.87122405e+06 1.85948597e+06\n",
      " 1.84778493e+06 1.83612092e+06 1.82449396e+06 1.81290403e+06\n",
      " 1.80135113e+06 1.78983528e+06 1.77835646e+06 1.76691468e+06\n",
      " 1.75550993e+06 1.74414223e+06 1.73281156e+06 1.72151793e+06\n",
      " 1.71026133e+06 1.69904177e+06 1.68785925e+06 1.67671377e+06\n",
      " 1.66560532e+06 1.65453391e+06 1.64349954e+06 1.63250220e+06\n",
      " 1.62154191e+06 1.61061865e+06 1.59973242e+06 1.58888323e+06\n",
      " 1.57807108e+06 1.56729597e+06 1.55655789e+06 1.54585686e+06\n",
      " 1.53519285e+06 1.52456589e+06 1.51397596e+06 1.50342307e+06\n",
      " 1.49290721e+06 1.48242840e+06 1.47198662e+06 1.46158187e+06\n",
      " 1.45121416e+06 1.44088349e+06 1.43058986e+06 1.42033326e+06\n",
      " 1.41011370e+06 1.39993118e+06 1.38978570e+06 1.37967725e+06\n",
      " 1.36960583e+06 1.35957146e+06 1.34957412e+06 1.33961382e+06\n",
      " 1.32969055e+06 1.31980432e+06 1.30995513e+06 1.30014297e+06\n",
      " 1.29036785e+06 1.28062977e+06 1.27092872e+06 1.26126471e+06\n",
      " 1.25163774e+06 1.24204780e+06 1.23249490e+06 1.22297904e+06\n",
      " 1.21350021e+06 1.20405842e+06 1.19465367e+06 1.18528595e+06\n",
      " 1.17595527e+06 1.16666162e+06 1.15740501e+06 1.14818544e+06\n",
      " 1.13900290e+06 1.12985740e+06 1.12074894e+06 1.11167751e+06\n",
      " 1.10264312e+06 1.09364577e+06 1.08468545e+06 1.07576216e+06\n",
      " 1.06687592e+06 1.05802670e+06 1.04921453e+06 1.04043939e+06\n",
      " 1.03170129e+06 1.02300022e+06 1.01433619e+06 1.00570919e+06\n",
      " 9.97119234e+05 9.88566310e+05 9.80050422e+05 9.71571570e+05\n",
      " 9.63129754e+05 9.54724973e+05 9.46357228e+05 9.38026518e+05\n",
      " 9.29732845e+05 9.21476206e+05 9.13256604e+05 9.05074036e+05\n",
      " 8.96928504e+05 8.88820008e+05 8.80748547e+05 8.72714121e+05\n",
      " 8.64716731e+05 8.56756376e+05 8.48833056e+05 8.40946772e+05\n",
      " 8.33097522e+05 8.25285308e+05 8.17510128e+05 8.09771984e+05\n",
      " 8.02070874e+05 7.94406800e+05 7.86779760e+05 7.79189756e+05\n",
      " 7.71636786e+05 7.64120850e+05 7.56641950e+05 7.49200084e+05\n",
      " 7.41795252e+05 7.34427455e+05 7.27096693e+05 7.19802965e+05\n",
      " 7.12546271e+05 7.05326612e+05 6.98143987e+05 6.90998396e+05\n",
      " 6.83889839e+05 6.76818316e+05 6.69783827e+05 6.62786372e+05\n",
      " 6.55825951e+05 6.48902564e+05 6.42016211e+05 6.35166891e+05\n",
      " 6.28354604e+05 6.21579352e+05 6.14841132e+05 6.08139946e+05\n",
      " 6.01475794e+05 5.94848674e+05 5.88258588e+05 5.81705534e+05\n",
      " 5.75189514e+05 5.68710526e+05 5.62268571e+05 5.55863649e+05\n",
      " 5.49495759e+05 5.43164902e+05 5.36871077e+05 5.30614285e+05\n",
      " 5.24394525e+05 5.18211797e+05 5.12066100e+05 5.05957436e+05\n",
      " 4.99885803e+05 4.93851202e+05 4.87853633e+05 4.81893095e+05\n",
      " 4.75969588e+05 4.70083112e+05 4.64233668e+05 4.58421254e+05\n",
      " 4.52645871e+05 4.46907519e+05 4.41206197e+05 4.35541905e+05\n",
      " 4.29914644e+05 4.24324412e+05 4.18771211e+05 4.13255039e+05\n",
      " 4.07775897e+05 4.02333784e+05 3.96928700e+05 3.91560646e+05\n",
      " 3.86229620e+05 3.80935623e+05 3.75678654e+05 3.70458713e+05\n",
      " 3.65275801e+05 3.60129916e+05 3.55021059e+05 3.49949230e+05\n",
      " 3.44914427e+05 3.39916652e+05 3.34955903e+05 3.30032181e+05\n",
      " 3.25145485e+05 3.20295815e+05 3.15483170e+05 3.10707551e+05\n",
      " 3.05968958e+05 3.01267388e+05 2.96602844e+05 2.91975324e+05\n",
      " 2.87384827e+05 2.82831354e+05 2.78314904e+05 2.73835478e+05\n",
      " 2.69393073e+05 2.64987691e+05 2.60619331e+05 2.56287992e+05\n",
      " 2.51993673e+05 2.47736376e+05 2.43516098e+05 2.39332840e+05\n",
      " 2.35186602e+05 2.31077382e+05 2.27005180e+05 2.22969995e+05\n",
      " 2.18971828e+05 2.15010678e+05 2.11086543e+05 2.07199424e+05\n",
      " 2.03349320e+05 1.99536230e+05 1.95760153e+05 1.92021089e+05\n",
      " 1.88319038e+05 1.84653998e+05 1.81025968e+05 1.77434948e+05\n",
      " 1.73880938e+05 1.70363935e+05 1.66883940e+05 1.63440951e+05\n",
      " 1.60034967e+05 1.56665988e+05 1.53334013e+05 1.50039040e+05\n",
      " 1.46781067e+05 1.43560095e+05 1.40376122e+05 1.37229147e+05\n",
      " 1.34119167e+05 1.31046183e+05 1.28010192e+05 1.25011193e+05\n",
      " 1.22049184e+05 1.19124164e+05 1.16236131e+05 1.13385083e+05\n",
      " 1.10571019e+05 1.07793936e+05 1.05053832e+05 1.02350705e+05\n",
      " 9.96845538e+04 9.70553748e+04 9.44631657e+04 9.19079242e+04\n",
      " 8.93896473e+04 8.69083322e+04 8.44639758e+04 8.20565749e+04\n",
      " 7.96861263e+04 7.73526262e+04 7.50560709e+04 7.27964565e+04\n",
      " 7.05737787e+04 6.83880332e+04 6.62392152e+04 6.41273198e+04\n",
      " 6.20523416e+04 6.00142751e+04 5.80131144e+04 5.60488532e+04\n",
      " 5.41214848e+04 5.22310019e+04 5.03773971e+04 4.85606623e+04\n",
      " 4.67807887e+04 4.50377672e+04 4.33315879e+04 4.16622402e+04\n",
      " 4.00297128e+04 3.84339935e+04 3.68750693e+04 3.53529262e+04\n",
      " 3.38675490e+04 3.24189214e+04 3.10070260e+04 2.96318436e+04\n",
      " 2.82933538e+04 2.69915343e+04 2.57263608e+04 2.44978071e+04\n",
      " 2.33058447e+04 2.21504423e+04 2.10315658e+04 1.99491781e+04\n",
      " 1.89032382e+04 1.78937013e+04 1.69205182e+04 1.59836345e+04\n",
      " 1.50829902e+04 1.42185188e+04 1.33901468e+04 1.25977924e+04\n",
      " 1.18413642e+04 1.11207607e+04 1.04358679e+04 9.78655798e+03\n",
      " 9.17268731e+03 8.59409381e+03 8.05059427e+03 7.54198099e+03\n",
      " 7.06801788e+03 6.62843587e+03 6.22292744e+03 5.85114018e+03\n",
      " 5.51266925e+03 5.20704831e+03 4.93373905e+03 4.69211872e+03\n",
      " 4.48146561e+03 4.30094232e+03 4.14957642e+03 4.02623880e+03\n",
      " 3.92961973e+03 3.85820345e+03 3.81024237e+03 3.78373334e+03\n",
      " 3.77639889e+03]\n",
      "The Theta History :  [[0.001      0.001      0.001      0.001     ]\n",
      " [0.002      0.002      0.002      0.002     ]\n",
      " [0.003      0.003      0.003      0.003     ]\n",
      " ...\n",
      " [0.67110164 0.67107396 0.67106468 0.6712646 ]\n",
      " [0.6718191  0.67178789 0.67177743 0.67200255]\n",
      " [0.67250395 0.67246868 0.67245685 0.67271103]]\n"
     ]
    }
   ],
   "source": [
    "lr = 0.001\n",
    "n_iter = 1000\n",
    "epsilon = 1e-8\n",
    "beta1 = 0.9\n",
    "beta2 = 0.9\n",
    "\n",
    "theta = np.zeros(len(X[0])+1)\n",
    "\n",
    "X_b = np.c_[np.ones((len(X),1)),X]\n",
    "theta,cost_history,theta_history,it = batch_adam_GD(X_b,y,theta,lr,epsilon, beta1,beta2 ,n_iter)\n",
    "print(\"The Number of Iterations : \", it)\n",
    "print(\"The Thetas : \" , theta)\n",
    "print(\"The Cost History : \", cost_history)\n",
    "print(\"The Theta History : \", theta_history)"
   ]
  },
  {
   "cell_type": "code",
   "execution_count": 14,
   "id": "d44caf78",
   "metadata": {},
   "outputs": [],
   "source": [
    "y_pred = np.dot(X_b, theta)"
   ]
  },
  {
   "cell_type": "code",
   "execution_count": 15,
   "id": "2b097efb",
   "metadata": {},
   "outputs": [
    {
     "data": {
      "text/plain": [
       "0.9781726023596896"
      ]
     },
     "execution_count": 15,
     "metadata": {},
     "output_type": "execute_result"
    }
   ],
   "source": [
    "from sklearn.metrics import r2_score\n",
    "r2_score(y, y_pred)"
   ]
  },
  {
   "cell_type": "code",
   "execution_count": 16,
   "id": "d399c408",
   "metadata": {},
   "outputs": [
    {
     "data": {
      "text/plain": [
       "Text(0, 0.5, 'Loss')"
      ]
     },
     "execution_count": 16,
     "metadata": {},
     "output_type": "execute_result"
    },
    {
     "data": {
      "image/png": "[encoded data removed]",
      "text/plain": [
       "<Figure size 432x288 with 1 Axes>"
      ]
     },
     "metadata": {
      "needs_background": "light"
     },
     "output_type": "display_data"
    }
   ],
   "source": [
    "plt.plot(cost_history)\n",
    "plt.xlabel(\"Iterations\")\n",
    "plt.ylabel(\"Loss\")"
   ]
  },
  {
   "cell_type": "code",
   "execution_count": 17,
   "id": "18e03091",
   "metadata": {},
   "outputs": [
    {
     "data": {
      "text/plain": [
       "Text(0, 0.5, 'Cost')"
      ]
     },
     "execution_count": 17,
     "metadata": {},
     "output_type": "execute_result"
    },
    {
     "data": {
      "image/png": "[encoded data removed]",
      "text/plain": [
       "<Figure size 432x288 with 1 Axes>"
      ]
     },
     "metadata": {
      "needs_background": "light"
     },
     "output_type": "display_data"
    }
   ],
   "source": [
    "plt.plot(np.array(theta_history)[:, 0],cost_history)\n",
    "plt.xlabel(\"Theta_0\")\n",
    "plt.ylabel(\"Cost\")\n"
   ]
  },
  {
   "cell_type": "code",
   "execution_count": 18,
   "id": "5aa48bab",
   "metadata": {},
   "outputs": [
    {
     "data": {
      "text/plain": [
       "Text(0, 0.5, 'Cost')"
      ]
     },
     "execution_count": 18,
     "metadata": {},
     "output_type": "execute_result"
    },
    {
     "data": {
      "image/png": "[encoded data removed]",
      "text/plain": [
       "<Figure size 432x288 with 1 Axes>"
      ]
     },
     "metadata": {
      "needs_background": "light"
     },
     "output_type": "display_data"
    }
   ],
   "source": [
    "plt.plot(np.array(theta_history)[:, 1],cost_history)\n",
    "plt.xlabel(\"Theta_1\")\n",
    "plt.ylabel(\"Cost\")"
   ]
  },
  {
   "cell_type": "code",
   "execution_count": 19,
   "id": "ac737fa6",
   "metadata": {},
   "outputs": [
    {
     "data": {
      "text/plain": [
       "Text(0, 0.5, 'Cost')"
      ]
     },
     "execution_count": 19,
     "metadata": {},
     "output_type": "execute_result"
    },
    {
     "data": {
      "image/png": "[encoded data removed]",
      "text/plain": [
       "<Figure size 432x288 with 1 Axes>"
      ]
     },
     "metadata": {
      "needs_background": "light"
     },
     "output_type": "display_data"
    }
   ],
   "source": [
    "plt.plot(np.array(theta_history)[:, 2],cost_history)\n",
    "plt.xlabel(\"Theta_2\")\n",
    "plt.ylabel(\"Cost\")"
   ]
  },
  {
   "cell_type": "code",
   "execution_count": 20,
   "id": "70561b31",
   "metadata": {},
   "outputs": [
    {
     "data": {
      "text/plain": [
       "Text(0, 0.5, 'Cost')"
      ]
     },
     "execution_count": 20,
     "metadata": {},
     "output_type": "execute_result"
    },
    {
     "data": {
      "image/png": "[encoded data removed]",
      "text/plain": [
       "<Figure size 432x288 with 1 Axes>"
      ]
     },
     "metadata": {
      "needs_background": "light"
     },
     "output_type": "display_data"
    }
   ],
   "source": [
    "plt.plot(np.array(theta_history)[:, 3],cost_history)\n",
    "plt.xlabel(\"Theta_3\")\n",
    "plt.ylabel(\"Cost\")"
   ]
  },
  {
   "cell_type": "markdown",
   "id": "eb19bf87",
   "metadata": {},
   "source": [
    "### Mini Batch - Adam - Gradient Descent"
   ]
  },
  {
   "cell_type": "code",
   "execution_count": 21,
   "id": "8b56015a",
   "metadata": {},
   "outputs": [],
   "source": [
    "def mini_batch_adam_GD(X, y, theta, learning_rate=0.1, epsilon =1e-8, beta1 = 0.9, beta2 = 0.9, max_iterations=100, batch_size =20):\n",
    "    \n",
    "    \n",
    "    m = len(y)\n",
    "    \n",
    "    #Lists of (cost , thetas, gradients)\n",
    "    cost_list = np.zeros(max_iterations)\n",
    "    theta_list = np.zeros((max_iterations,4))\n",
    "    gd_list = []\n",
    "    \n",
    "    #Number of batches \n",
    "    n_batches = int(m/batch_size)\n",
    "    \n",
    "    #Current V\n",
    "    v_thetas = np.zeros(len(X[0]))\n",
    "    \n",
    "    #Current M\n",
    "    m_thetas = np.zeros(len(X[0]))\n",
    "    \n",
    "    #The First for loop , loops over epochs\n",
    "    for it in range(max_iterations):\n",
    "        cost = 0.0\n",
    "        \n",
    "        #Shuffle The Data Points\n",
    "        batch_indices = np.random.permutation(m)\n",
    "        \n",
    "        X = X[batch_indices]\n",
    "        y = y[batch_indices]\n",
    "        \n",
    "        #The Second for loop , loops over every batch\n",
    "        for i in range(0,m,batch_size):\n",
    "            \n",
    "            X_i = X[i:i+batch_size]\n",
    "            y_i = y[i:i+batch_size]\n",
    "            \n",
    "            prediction = np.dot(X_i,theta)\n",
    "            \n",
    "            gd =  X_i.T.dot((prediction - y_i))\n",
    "            gd_list.append(gd)\n",
    "            \n",
    "            m_thetas = (beta1 * m_thetas) + (1 - beta1)*(gd)\n",
    "            v_thetas = (beta2 * v_thetas) + (1-beta2)*(gd)**2\n",
    "            \n",
    "            m_hat = m_thetas/(1-(beta1**(i+1)))\n",
    "            v_hat = v_thetas/(1-(beta2**(i+1)))\n",
    "            \n",
    "            theta = theta - (learning_rate/(np.sqrt(v_hat)+epsilon))* m_hat\n",
    "            theta_list[it,:] = theta.T\n",
    "            \n",
    "            cost += cal_cost(theta,X_i,y_i)\n",
    "        cost_list[it]  = cost\n",
    "       \n",
    "        if(it>0):\n",
    "            \n",
    "            if abs(cost_list[it-1] - cost_list[it] < 0.001):\n",
    "                break\n",
    "            if abs(np.linalg.norm([gd_list[it-1]])-np.linalg.norm([gd_list[it]]))< 0.001:\n",
    "                break\n",
    "            \n",
    "\n",
    "                \n",
    "    return theta, cost_list[:it], theta_list[:it], it"
   ]
  },
  {
   "cell_type": "code",
   "execution_count": 22,
   "id": "ae1911af",
   "metadata": {},
   "outputs": [
    {
     "name": "stdout",
     "output_type": "stream",
     "text": [
      "The Number of Iterations :  70\n",
      "The Thetas :  [0.68131309 0.67717429 0.67676339 0.6772833 ]\n",
      "The Cost History :  [1.29531432e+06 1.28202267e+06 1.23694809e+06 1.18119347e+06\n",
      " 1.14972905e+06 1.14605000e+06 1.08459379e+06 1.04572301e+06\n",
      " 1.02081084e+06 9.82707118e+05 9.57071620e+05 9.23888053e+05\n",
      " 8.97953176e+05 8.49973239e+05 8.19490274e+05 7.93056497e+05\n",
      " 7.75997440e+05 7.54834446e+05 7.15912553e+05 6.97915523e+05\n",
      " 6.63301872e+05 6.30641158e+05 6.01702088e+05 5.84392356e+05\n",
      " 5.58550712e+05 5.40716373e+05 5.09767847e+05 4.90134749e+05\n",
      " 4.64434656e+05 4.41639049e+05 4.17781226e+05 3.95468577e+05\n",
      " 3.74674156e+05 3.53285625e+05 3.36114305e+05 3.11831161e+05\n",
      " 3.00284866e+05 2.81681676e+05 2.61391285e+05 2.47092327e+05\n",
      " 2.26814537e+05 2.15511307e+05 1.98113744e+05 1.82179589e+05\n",
      " 1.71271465e+05 1.55228265e+05 1.42125049e+05 1.32335916e+05\n",
      " 1.21236743e+05 1.08053121e+05 9.74233598e+04 8.74237022e+04\n",
      " 7.89744153e+04 6.98871781e+04 6.06043510e+04 5.26126389e+04\n",
      " 4.62007765e+04 3.83221130e+04 3.33736247e+04 2.66115416e+04\n",
      " 2.20176516e+04 1.70973621e+04 1.34912684e+04 1.03092723e+04\n",
      " 6.87634553e+03 4.64897186e+03 3.09876573e+03 1.67931930e+03\n",
      " 9.70398779e+02 4.98724269e+02]\n",
      "The Theta History :  [[0.00515713 0.00515383 0.00515099 0.00515109]\n",
      " [0.01318215 0.01315761 0.0131553  0.01313246]\n",
      " [0.02218294 0.02207508 0.02208135 0.02205069]\n",
      " [0.03164799 0.03144907 0.03145938 0.03144087]\n",
      " [0.0413654  0.04112225 0.0411255  0.0411153 ]\n",
      " [0.0511877  0.05091879 0.05090719 0.05090648]\n",
      " [0.06098711 0.06063526 0.06060773 0.06061794]\n",
      " [0.07084231 0.07042143 0.0703792  0.07039282]\n",
      " [0.08073733 0.08028895 0.08022742 0.08024579]\n",
      " [0.09062824 0.09012808 0.09003929 0.09008414]\n",
      " [0.10052093 0.09996092 0.09986297 0.09991483]\n",
      " [0.1103985  0.1097524  0.10965243 0.10969602]\n",
      " [0.12026714 0.11952072 0.11943241 0.11945492]\n",
      " [0.13012706 0.12928222 0.12919114 0.12921246]\n",
      " [0.14003242 0.13913388 0.13902981 0.13906836]\n",
      " [0.14996222 0.14904291 0.14892873 0.1489776 ]\n",
      " [0.15988958 0.15896481 0.15884937 0.15888709]\n",
      " [0.16977001 0.16879769 0.16867453 0.16869774]\n",
      " [0.17959802 0.17853936 0.1784048  0.17843168]\n",
      " [0.18944767 0.18832267 0.18818601 0.18820871]\n",
      " [0.19925983 0.19805246 0.19790118 0.19792833]\n",
      " [0.20909281 0.20781136 0.2076331  0.20766491]\n",
      " [0.2189681  0.21764581 0.21743692 0.21749879]\n",
      " [0.22886511 0.22751721 0.22729709 0.2273711 ]\n",
      " [0.23873533 0.23732948 0.2371118  0.23718669]\n",
      " [0.24858458 0.2470907  0.24689818 0.24694429]\n",
      " [0.25838579 0.25677283 0.25658855 0.25661873]\n",
      " [0.2682144  0.26650776 0.26632791 0.26633265]\n",
      " [0.27803276 0.27620601 0.27603888 0.276038  ]\n",
      " [0.28786736 0.28594806 0.28577809 0.28578312]\n",
      " [0.29771691 0.29572417 0.2955421  0.29555617]\n",
      " [0.30757905 0.30550522 0.30532628 0.3053401 ]\n",
      " [0.31745312 0.3152902  0.31509482 0.31515126]\n",
      " [0.32734399 0.32511728 0.32489293 0.32500659]\n",
      " [0.33724108 0.33497564 0.33474019 0.33486436]\n",
      " [0.34713898 0.34484467 0.34461064 0.34472131]\n",
      " [0.3570596  0.35475342 0.3545214  0.35462088]\n",
      " [0.36694591 0.36461311 0.36437553 0.36445301]\n",
      " [0.3768223  0.37445452 0.37421185 0.37426634]\n",
      " [0.38670384 0.38427957 0.38401594 0.3840742 ]\n",
      " [0.39657445 0.39409288 0.39381927 0.3938602 ]\n",
      " [0.40648281 0.40399534 0.40370983 0.40374243]\n",
      " [0.41636582 0.41384526 0.41354343 0.41358986]\n",
      " [0.4262504  0.42366492 0.42333705 0.42342968]\n",
      " [0.43615164 0.43349774 0.4331697  0.43328155]\n",
      " [0.44602527 0.44330478 0.44296872 0.44308883]\n",
      " [0.45591323 0.45313714 0.4528041  0.45292133]\n",
      " [0.46581575 0.46297662 0.46265736 0.46276714]\n",
      " [0.4756773  0.47276121 0.4724533  0.47255867]\n",
      " [0.48551618 0.48249649 0.48220734 0.482313  ]\n",
      " [0.49537611 0.49229047 0.49200286 0.49210656]\n",
      " [0.50524289 0.502114   0.50180578 0.5019111 ]\n",
      " [0.51510418 0.51193221 0.51162287 0.51170944]\n",
      " [0.52493831 0.52169447 0.52138765 0.52146623]\n",
      " [0.53475853 0.53142042 0.53111832 0.53120238]\n",
      " [0.54459234 0.54116208 0.54085117 0.54096077]\n",
      " [0.55444187 0.550964   0.55064608 0.55076086]\n",
      " [0.56426494 0.56072182 0.56041035 0.56052408]\n",
      " [0.57409969 0.57048458 0.57017491 0.57027999]\n",
      " [0.58387128 0.58016247 0.57988174 0.57994943]\n",
      " [0.59364429 0.58983557 0.5895809  0.58961631]\n",
      " [0.60341189 0.59953328 0.59929486 0.59930036]\n",
      " [0.61316357 0.6092484  0.60901524 0.60900217]\n",
      " [0.62285135 0.6189157  0.61867742 0.61864957]\n",
      " [0.63240772 0.6284615  0.62821257 0.62816277]\n",
      " [0.64196962 0.63803272 0.63776594 0.63771619]\n",
      " [0.65146215 0.64750779 0.64721685 0.64719555]\n",
      " [0.66044761 0.65643938 0.65611859 0.65613666]\n",
      " [0.66899498 0.66493284 0.66459902 0.6646695 ]\n",
      " [0.67619331 0.6720591  0.67169117 0.67189939]]\n"
     ]
    }
   ],
   "source": [
    "lr = 0.001\n",
    "n_iter = 1000\n",
    "batch = 4\n",
    "epsilon = 1e-8\n",
    "beta1 = 0.9\n",
    "beta2 = 0.9\n",
    "\n",
    "theta = np.zeros(len(X[0])+1)\n",
    "\n",
    "X_b = np.c_[np.ones((len(X),1)),X]\n",
    "theta,cost_history,theta_history,it = mini_batch_adam_GD(X_b,y,theta,lr,epsilon, beta1,beta2 ,n_iter,batch)\n",
    "print(\"The Number of Iterations : \", it)\n",
    "print(\"The Thetas : \" , theta)\n",
    "print(\"The Cost History : \", cost_history)\n",
    "print(\"The Theta History : \", theta_history)\n"
   ]
  },
  {
   "cell_type": "code",
   "execution_count": 23,
   "id": "fb30495e",
   "metadata": {},
   "outputs": [],
   "source": [
    "y_pred = np.dot(X_b, theta)"
   ]
  },
  {
   "cell_type": "code",
   "execution_count": 24,
   "id": "d671780c",
   "metadata": {},
   "outputs": [
    {
     "data": {
      "text/plain": [
       "0.975959990260582"
      ]
     },
     "execution_count": 24,
     "metadata": {},
     "output_type": "execute_result"
    }
   ],
   "source": [
    "from sklearn.metrics import r2_score\n",
    "r2_score(y, y_pred)"
   ]
  },
  {
   "cell_type": "code",
   "execution_count": 25,
   "id": "306dce31",
   "metadata": {},
   "outputs": [
    {
     "data": {
      "text/plain": [
       "Text(0, 0.5, 'Loss')"
      ]
     },
     "execution_count": 25,
     "metadata": {},
     "output_type": "execute_result"
    },
    {
     "data": {
      "image/png": "[encoded data removed]",
      "text/plain": [
       "<Figure size 432x288 with 1 Axes>"
      ]
     },
     "metadata": {
      "needs_background": "light"
     },
     "output_type": "display_data"
    }
   ],
   "source": [
    "plt.plot(cost_history)\n",
    "plt.xlabel(\"Iterations\")\n",
    "plt.ylabel(\"Loss\")"
   ]
  },
  {
   "cell_type": "code",
   "execution_count": 26,
   "id": "71d4d77a",
   "metadata": {},
   "outputs": [
    {
     "data": {
      "text/plain": [
       "Text(0, 0.5, 'Cost')"
      ]
     },
     "execution_count": 26,
     "metadata": {},
     "output_type": "execute_result"
    },
    {
     "data": {
      "image/png": "[encoded data removed]",
      "text/plain": [
       "<Figure size 432x288 with 1 Axes>"
      ]
     },
     "metadata": {
      "needs_background": "light"
     },
     "output_type": "display_data"
    }
   ],
   "source": [
    "plt.plot(np.array(theta_history)[:, 0],cost_history)\n",
    "plt.xlabel(\"Theta_0\")\n",
    "plt.ylabel(\"Cost\")"
   ]
  },
  {
   "cell_type": "code",
   "execution_count": 27,
   "id": "24adbb63",
   "metadata": {},
   "outputs": [
    {
     "data": {
      "text/plain": [
       "Text(0, 0.5, 'Cost')"
      ]
     },
     "execution_count": 27,
     "metadata": {},
     "output_type": "execute_result"
    },
    {
     "data": {
      "image/png": "[encoded data removed]",
      "text/plain": [
       "<Figure size 432x288 with 1 Axes>"
      ]
     },
     "metadata": {
      "needs_background": "light"
     },
     "output_type": "display_data"
    }
   ],
   "source": [
    "plt.plot(np.array(theta_history)[:, 1],cost_history)\n",
    "plt.xlabel(\"Theta_1\")\n",
    "plt.ylabel(\"Cost\")"
   ]
  },
  {
   "cell_type": "code",
   "execution_count": 28,
   "id": "69c87f24",
   "metadata": {},
   "outputs": [
    {
     "data": {
      "text/plain": [
       "Text(0, 0.5, 'Cost')"
      ]
     },
     "execution_count": 28,
     "metadata": {},
     "output_type": "execute_result"
    },
    {
     "data": {
      "image/png": "[encoded data removed]",
      "text/plain": [
       "<Figure size 432x288 with 1 Axes>"
      ]
     },
     "metadata": {
      "needs_background": "light"
     },
     "output_type": "display_data"
    }
   ],
   "source": [
    "plt.plot(np.array(theta_history)[:, 2],cost_history)\n",
    "plt.xlabel(\"Theta_2\")\n",
    "plt.ylabel(\"Cost\")"
   ]
  },
  {
   "cell_type": "code",
   "execution_count": 29,
   "id": "79e0593c",
   "metadata": {},
   "outputs": [
    {
     "data": {
      "text/plain": [
       "Text(0, 0.5, 'Cost')"
      ]
     },
     "execution_count": 29,
     "metadata": {},
     "output_type": "execute_result"
    },
    {
     "data": {
      "image/png": "[encoded data removed]",
      "text/plain": [
       "<Figure size 432x288 with 1 Axes>"
      ]
     },
     "metadata": {
      "needs_background": "light"
     },
     "output_type": "display_data"
    }
   ],
   "source": [
    "plt.plot(np.array(theta_history)[:, 3],cost_history)\n",
    "plt.xlabel(\"Theta_3\")\n",
    "plt.ylabel(\"Cost\")"
   ]
  },
  {
   "cell_type": "code",
   "execution_count": null,
   "id": "fd23bf42",
   "metadata": {},
   "outputs": [],
   "source": []
  }
 ],
 "metadata": {
  "colab": {
   "name": "NOFML&DS Final Practical Exam.ipynb",
   "provenance": []
  },
  "kernelspec": {
   "display_name": "Python 3 (ipykernel)",
   "language": "python",
   "name": "python3"
  },
  "language_info": {
   "codemirror_mode": {
    "name": "ipython",
    "version": 3
   },
   "file_extension": ".py",
   "mimetype": "text/x-python",
   "name": "python",
   "nbconvert_exporter": "python",
   "pygments_lexer": "ipython3",
   "version": "3.10.4"
  }
 },
 "nbformat": 4,
 "nbformat_minor": 5
}
