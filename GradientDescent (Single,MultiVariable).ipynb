{
 "cells": [
  {
   "cell_type": "markdown",
   "metadata": {},
   "source": [
    "## Practical Work 1"
   ]
  },
  {
   "cell_type": "markdown",
   "metadata": {},
   "source": [
    "For this practical work, the student will have to develop a Python program that is able to implement the gradient descent in order to achieve the linear regression of a set of datapoints."
   ]
  },
  {
   "cell_type": "markdown",
   "metadata": {},
   "source": [
    "#### Import numpy, matplotlib.pyplot and make it inline"
   ]
  },
  {
   "cell_type": "code",
   "execution_count": 1,
   "metadata": {},
   "outputs": [],
   "source": [
    "import numpy as np\n",
    "import matplotlib.pyplot as plt\n",
    "%matplotlib inline"
   ]
  },
  {
   "cell_type": "markdown",
   "metadata": {},
   "source": [
    "#### Read RegData csv file into numpy array  (check your data)\n",
    "##### Data source\n",
    "https://college.cengage.com/mathematics/brase/understandable_statistics/7e/students/datasets/slr/frames/frame.html\n"
   ]
  },
  {
   "cell_type": "code",
   "execution_count": 2,
   "metadata": {},
   "outputs": [],
   "source": [
    "import pandas as pd\n",
    "df= pd.read_csv('RegData.csv' ,header=None)"
   ]
  },
  {
   "cell_type": "code",
   "execution_count": 3,
   "metadata": {},
   "outputs": [
    {
     "data": {
      "text/html": [
       "<div>\n",
       "<style scoped>\n",
       "    .dataframe tbody tr th:only-of-type {\n",
       "        vertical-align: middle;\n",
       "    }\n",
       "\n",
       "    .dataframe tbody tr th {\n",
       "        vertical-align: top;\n",
       "    }\n",
       "\n",
       "    .dataframe thead th {\n",
       "        text-align: right;\n",
       "    }\n",
       "</style>\n",
       "<table border=\"1\" class=\"dataframe\">\n",
       "  <thead>\n",
       "    <tr style=\"text-align: right;\">\n",
       "      <th></th>\n",
       "      <th>0</th>\n",
       "      <th>1</th>\n",
       "    </tr>\n",
       "  </thead>\n",
       "  <tbody>\n",
       "    <tr>\n",
       "      <th>0</th>\n",
       "      <td>2.9</td>\n",
       "      <td>4.0</td>\n",
       "    </tr>\n",
       "    <tr>\n",
       "      <th>1</th>\n",
       "      <td>6.7</td>\n",
       "      <td>7.4</td>\n",
       "    </tr>\n",
       "    <tr>\n",
       "      <th>2</th>\n",
       "      <td>4.9</td>\n",
       "      <td>5.0</td>\n",
       "    </tr>\n",
       "    <tr>\n",
       "      <th>3</th>\n",
       "      <td>7.9</td>\n",
       "      <td>7.2</td>\n",
       "    </tr>\n",
       "    <tr>\n",
       "      <th>4</th>\n",
       "      <td>9.8</td>\n",
       "      <td>7.9</td>\n",
       "    </tr>\n",
       "    <tr>\n",
       "      <th>5</th>\n",
       "      <td>6.9</td>\n",
       "      <td>6.1</td>\n",
       "    </tr>\n",
       "    <tr>\n",
       "      <th>6</th>\n",
       "      <td>6.1</td>\n",
       "      <td>6.0</td>\n",
       "    </tr>\n",
       "    <tr>\n",
       "      <th>7</th>\n",
       "      <td>6.2</td>\n",
       "      <td>5.8</td>\n",
       "    </tr>\n",
       "    <tr>\n",
       "      <th>8</th>\n",
       "      <td>6.0</td>\n",
       "      <td>5.2</td>\n",
       "    </tr>\n",
       "    <tr>\n",
       "      <th>9</th>\n",
       "      <td>5.1</td>\n",
       "      <td>4.2</td>\n",
       "    </tr>\n",
       "    <tr>\n",
       "      <th>10</th>\n",
       "      <td>4.7</td>\n",
       "      <td>4.0</td>\n",
       "    </tr>\n",
       "    <tr>\n",
       "      <th>11</th>\n",
       "      <td>4.4</td>\n",
       "      <td>4.4</td>\n",
       "    </tr>\n",
       "    <tr>\n",
       "      <th>12</th>\n",
       "      <td>5.8</td>\n",
       "      <td>5.2</td>\n",
       "    </tr>\n",
       "  </tbody>\n",
       "</table>\n",
       "</div>"
      ],
      "text/plain": [
       "      0    1\n",
       "0   2.9  4.0\n",
       "1   6.7  7.4\n",
       "2   4.9  5.0\n",
       "3   7.9  7.2\n",
       "4   9.8  7.9\n",
       "5   6.9  6.1\n",
       "6   6.1  6.0\n",
       "7   6.2  5.8\n",
       "8   6.0  5.2\n",
       "9   5.1  4.2\n",
       "10  4.7  4.0\n",
       "11  4.4  4.4\n",
       "12  5.8  5.2"
      ]
     },
     "execution_count": 3,
     "metadata": {},
     "output_type": "execute_result"
    }
   ],
   "source": [
    "df"
   ]
  },
  {
   "cell_type": "markdown",
   "metadata": {},
   "source": [
    "#### Explore your data"
   ]
  },
  {
   "cell_type": "code",
   "execution_count": 4,
   "metadata": {},
   "outputs": [
    {
     "data": {
      "image/png": "[encoded data removed]",
      "text/plain": [
       "<Figure size 432x288 with 1 Axes>"
      ]
     },
     "metadata": {
      "needs_background": "light"
     },
     "output_type": "display_data"
    }
   ],
   "source": [
    "df.plot.scatter(0,1);"
   ]
  },
  {
   "cell_type": "markdown",
   "metadata": {},
   "source": [
    "#### Define variables X and y. Assign first column data to X and second column to y\n",
    "<b>Note:</b> X is the independent variable (input to LR model) and y is the dependent variable (output)"
   ]
  },
  {
   "cell_type": "code",
   "execution_count": 5,
   "metadata": {},
   "outputs": [],
   "source": [
    "x=df.loc[: , 0].to_numpy()\n",
    "y=df.loc[:, 1].to_numpy()"
   ]
  },
  {
   "cell_type": "code",
   "execution_count": 6,
   "metadata": {},
   "outputs": [
    {
     "name": "stdout",
     "output_type": "stream",
     "text": [
      "[2.9000001  6.69999981 4.9000001  7.9000001  9.80000019 6.9000001\n",
      " 6.0999999  6.19999981 6.         5.0999999  4.69999981 4.4000001\n",
      " 5.80000019]\n",
      "[4.         7.4000001  5.         7.19999981 7.9000001  6.0999999\n",
      " 6.         5.80000019 5.19999981 4.19999981 4.         4.4000001\n",
      " 5.19999981]\n"
     ]
    }
   ],
   "source": [
    "print(x)\n",
    "print(y)"
   ]
  },
  {
   "cell_type": "markdown",
   "metadata": {},
   "source": [
    "#### Explore your data"
   ]
  },
  {
   "cell_type": "code",
   "execution_count": 7,
   "metadata": {
    "scrolled": true
   },
   "outputs": [
    {
     "data": {
      "text/plain": [
       "array([2.9000001 , 6.69999981, 4.9000001 , 7.9000001 , 9.80000019,\n",
       "       6.9000001 , 6.0999999 , 6.19999981, 6.        , 5.0999999 ,\n",
       "       4.69999981, 4.4000001 , 5.80000019])"
      ]
     },
     "execution_count": 7,
     "metadata": {},
     "output_type": "execute_result"
    }
   ],
   "source": [
    "x"
   ]
  },
  {
   "cell_type": "code",
   "execution_count": 8,
   "metadata": {},
   "outputs": [
    {
     "data": {
      "text/plain": [
       "array([4.        , 7.4000001 , 5.        , 7.19999981, 7.9000001 ,\n",
       "       6.0999999 , 6.        , 5.80000019, 5.19999981, 4.19999981,\n",
       "       4.        , 4.4000001 , 5.19999981])"
      ]
     },
     "execution_count": 8,
     "metadata": {},
     "output_type": "execute_result"
    }
   ],
   "source": [
    "y"
   ]
  },
  {
   "cell_type": "markdown",
   "metadata": {},
   "source": [
    "#### Plot the original data (scatter plot of X,y)"
   ]
  },
  {
   "cell_type": "code",
   "execution_count": 9,
   "metadata": {},
   "outputs": [
    {
     "data": {
      "image/png": "[encoded data removed]",
      "text/plain": [
       "<Figure size 432x288 with 1 Axes>"
      ]
     },
     "metadata": {
      "needs_background": "light"
     },
     "output_type": "display_data"
    }
   ],
   "source": [
    "plt.scatter(x, y);"
   ]
  },
  {
   "cell_type": "markdown",
   "metadata": {},
   "source": [
    "## LR Full Implementation"
   ]
  },
  {
   "cell_type": "markdown",
   "metadata": {},
   "source": [
    "### Step1: Initialize parameters (theta_0 & theta_1) with random value or simply zero. Also choose the Learning rate. "
   ]
  },
  {
   "attachments": {
    "image.png": {
     "image/png": "[encoded data removed]"
    }
   },
   "cell_type": "markdown",
   "metadata": {},
   "source": [
    "![image.png](attachment:image.png)"
   ]
  },
  {
   "cell_type": "code",
   "execution_count": 10,
   "metadata": {},
   "outputs": [],
   "source": [
    "theta_0= 0\n",
    "theta_1= 0\n",
    "r=0.001"
   ]
  },
  {
   "attachments": {
    "image.png": {
     "image/png": "[encoded data removed]"
    }
   },
   "cell_type": "markdown",
   "metadata": {},
   "source": [
    "### Step2: Use (theta_0 & theta_1) to predict the output h(x)= theta_0 + theta_1 * x.![image.png](attachment:image.png)\n",
    "#### Note: you will need to iterate through all data points"
   ]
  },
  {
   "cell_type": "code",
   "execution_count": 11,
   "metadata": {},
   "outputs": [],
   "source": [
    "h_0 = theta_0 + (theta_1 *x )"
   ]
  },
  {
   "cell_type": "code",
   "execution_count": 12,
   "metadata": {},
   "outputs": [
    {
     "name": "stdout",
     "output_type": "stream",
     "text": [
      "[0. 0. 0. 0. 0. 0. 0. 0. 0. 0. 0. 0. 0.]\n"
     ]
    }
   ],
   "source": [
    "print(h_0)"
   ]
  },
  {
   "attachments": {
    "image-2.png": {
     "image/png": "[encoded data removed]"
    },
    "image.png": {
     "image/png": "[encoded data removed]"
    }
   },
   "cell_type": "markdown",
   "metadata": {},
   "source": [
    "### Step3: Calculate Cost function 𝑱(theta_0,theta_1 ).![image.png](attachment:image.png)\n",
    "![image-2.png](attachment:image-2.png)"
   ]
  },
  {
   "cell_type": "code",
   "execution_count": 13,
   "metadata": {},
   "outputs": [],
   "source": [
    "def J(theta_0,theta_1):\n",
    "    m=len(x)\n",
    "    cost = (1/(2*m) *(h_0 - y)**2).sum()\n",
    "    return cost"
   ]
  },
  {
   "cell_type": "code",
   "execution_count": 14,
   "metadata": {},
   "outputs": [
    {
     "data": {
      "text/plain": [
       "16.305384479692318"
      ]
     },
     "execution_count": 14,
     "metadata": {},
     "output_type": "execute_result"
    }
   ],
   "source": [
    "J(theta_0,theta_1)"
   ]
  },
  {
   "attachments": {
    "image-2.png": {
     "image/png": "[encoded data removed]"
    },
    "image.png": {
     "image/png": "[encoded data removed]"
    }
   },
   "cell_type": "markdown",
   "metadata": {},
   "source": [
    "### Step4: Calculate the gradient.![image.png](attachment:image.png)\n",
    "![image-2.png](attachment:image-2.png)"
   ]
  },
  {
   "cell_type": "code",
   "execution_count": 15,
   "metadata": {},
   "outputs": [],
   "source": [
    "def gradiant(h_0, y):\n",
    "    m=len(x)\n",
    "    theta0_grad= (1/m * (h_0 - y)).sum()\n",
    "    theta1_grad= (1/m * (h_0 - y) * x).sum()\n",
    "    return theta0_grad, theta1_grad\n"
   ]
  },
  {
   "cell_type": "code",
   "execution_count": 16,
   "metadata": {},
   "outputs": [
    {
     "data": {
      "text/plain": [
       "(-5.56923073976923, -35.04384604321538)"
      ]
     },
     "execution_count": 16,
     "metadata": {},
     "output_type": "execute_result"
    }
   ],
   "source": [
    "gradiant(h_0, y)"
   ]
  },
  {
   "cell_type": "code",
   "execution_count": 17,
   "metadata": {},
   "outputs": [],
   "source": [
    "#gradiant(h_0, y)[0]"
   ]
  },
  {
   "cell_type": "code",
   "execution_count": 18,
   "metadata": {},
   "outputs": [],
   "source": [
    "theta_0_grad , theta_1_grad = gradiant(h_0, y)"
   ]
  },
  {
   "cell_type": "code",
   "execution_count": 19,
   "metadata": {},
   "outputs": [
    {
     "name": "stdout",
     "output_type": "stream",
     "text": [
      "-5.56923073976923 -35.04384604321538\n"
     ]
    }
   ],
   "source": [
    "print(theta_0_grad , theta_1_grad)"
   ]
  },
  {
   "attachments": {
    "image-2.png": {
     "image/png": "[encoded data removed]"
    },
    "image.png": {
     "image/png": "[encoded data removed]"
    }
   },
   "cell_type": "markdown",
   "metadata": {},
   "source": [
    "### Step5: Update the parameters (simultaneously).![image.png](attachment:image.png)\n",
    "![image-2.png](attachment:image-2.png)"
   ]
  },
  {
   "cell_type": "code",
   "execution_count": 20,
   "metadata": {},
   "outputs": [],
   "source": [
    "theta_0 = theta_0 - r*theta_0_grad\n",
    "theta_1 = theta_1 - r*theta_1_grad"
   ]
  },
  {
   "cell_type": "code",
   "execution_count": 21,
   "metadata": {},
   "outputs": [
    {
     "data": {
      "text/plain": [
       "0.00556923073976923"
      ]
     },
     "execution_count": 21,
     "metadata": {},
     "output_type": "execute_result"
    }
   ],
   "source": [
    "theta_0"
   ]
  },
  {
   "cell_type": "code",
   "execution_count": 22,
   "metadata": {},
   "outputs": [
    {
     "data": {
      "text/plain": [
       "0.03504384604321538"
      ]
     },
     "execution_count": 22,
     "metadata": {},
     "output_type": "execute_result"
    }
   ],
   "source": [
    "theta_1"
   ]
  },
  {
   "attachments": {
    "image.png": {
     "image/png": "[encoded data removed]"
    }
   },
   "cell_type": "markdown",
   "metadata": {},
   "source": [
    "### Step6: Repeat from 2 to 5 until converge to the minimum or achieve maximum iterations.![image.png](attachment:image.png)"
   ]
  },
  {
   "cell_type": "code",
   "execution_count": 23,
   "metadata": {},
   "outputs": [
    {
     "name": "stdout",
     "output_type": "stream",
     "text": [
      "it takes iterations =  120\n"
     ]
    }
   ],
   "source": [
    "iteration = 1000\n",
    "theta_0_list=[]\n",
    "theta_1_list=[]\n",
    "cost_list=[]\n",
    "hypothes_list=[]\n",
    "gradiant_0_list=[]\n",
    "gradiant_1_list=[]\n",
    "\n",
    "\n",
    "for i in range(iteration):\n",
    "    h_0 = theta_0 + (theta_1 *x )\n",
    "    hypothes_list.append(h_0)\n",
    "    #print(h_0)\n",
    "    \n",
    "    cost= J(theta_0,theta_1)\n",
    "    cost_list.append(cost)\n",
    "    \n",
    "    \n",
    "    theta_0_grad, theta_1_grad= gradiant(h_0, y)\n",
    "    gradiant_0_list.append(theta_0_grad)\n",
    "    gradiant_1_list.append(theta_1_grad)\n",
    "\n",
    "    \n",
    "    theta_0_list.append(theta_0)\n",
    "    theta_1_list.append(theta_1)\n",
    "    \n",
    "    theta_0 = theta_0 - r*theta_0_grad\n",
    "    theta_1 = theta_1 - r*theta_1_grad\n",
    "    \n",
    "    if i > 0:\n",
    "        if abs(cost_list[i-1] - cost_list[i] < 0.0001):\n",
    "            break\n",
    "            \n",
    "        if abs(np.linalg.norm([theta_0_list[i],theta_1_list[i]])-np.linalg.norm([theta_0_list[i-1],theta_1_list[i-1]]))< 0.0001:\n",
    "            break\n",
    "        \n",
    "        if abs(np.linalg.norm([gradiant_0_list[i],gradiant_1_list[i]])-np.linalg.norm([gradiant_0_list[i-1],gradiant_1_list[i-1]])) < 0.0001:\n",
    "            break\n",
    "    \n",
    "    \n",
    "print('it takes iterations = ', i)"
   ]
  },
  {
   "cell_type": "code",
   "execution_count": 24,
   "metadata": {},
   "outputs": [
    {
     "name": "stdout",
     "output_type": "stream",
     "text": [
      "0.1499960842169203\n",
      "0.8881463897205402\n"
     ]
    }
   ],
   "source": [
    "print(theta_0)\n",
    "print(theta_1)"
   ]
  },
  {
   "cell_type": "markdown",
   "metadata": {},
   "source": [
    "#### Predict y values using the LR equation\n",
    "##### h(x)= theta_0 + theta_1 * x"
   ]
  },
  {
   "cell_type": "code",
   "execution_count": 25,
   "metadata": {},
   "outputs": [
    {
     "data": {
      "text/plain": [
       "array([2.7256207 , 6.10057673, 4.50191348, 7.16635265, 8.85383087,\n",
       "       6.27820626, 5.56768898, 5.65650353, 5.47887442, 4.67954259,\n",
       "       4.32428395, 4.05784028, 5.30124531])"
      ]
     },
     "execution_count": 25,
     "metadata": {},
     "output_type": "execute_result"
    }
   ],
   "source": [
    "y_predict = theta_0 + theta_1 * x\n",
    "y_predict"
   ]
  },
  {
   "cell_type": "markdown",
   "metadata": {},
   "source": [
    "#### Plot  LR equation output (fitted line) with the original data (scatter plot of X,y)"
   ]
  },
  {
   "cell_type": "code",
   "execution_count": 26,
   "metadata": {
    "scrolled": false
   },
   "outputs": [
    {
     "data": {
      "text/plain": [
       "[<matplotlib.lines.Line2D at 0x1418a818820>]"
      ]
     },
     "execution_count": 26,
     "metadata": {},
     "output_type": "execute_result"
    },
    {
     "data": {
      "image/png": "[encoded data removed]",
      "text/plain": [
       "<Figure size 432x288 with 1 Axes>"
      ]
     },
     "metadata": {
      "needs_background": "light"
     },
     "output_type": "display_data"
    }
   ],
   "source": [
    "plt.scatter(x,y)\n",
    "plt.plot(x,y_predict)"
   ]
  },
  {
   "attachments": {
    "image-2.png": {
     "image/png": "[encoded data removed]"
    },
    "image-3.png": {
     "image/png": "[encoded data removed]"
    },
    "image.png": {
     "image/png": "[encoded data removed]"
    }
   },
   "cell_type": "markdown",
   "metadata": {},
   "source": [
    "#### Use R2 score to evaluate LR equation output\n",
    "![image.png](attachment:image.png)\n",
    "![image-2.png](attachment:image-2.png)\n",
    "![image-3.png](attachment:image-3.png)\n",
    "https://en.wikipedia.org/wiki/Coefficient_of_determination"
   ]
  },
  {
   "cell_type": "code",
   "execution_count": 27,
   "metadata": {},
   "outputs": [
    {
     "name": "stdout",
     "output_type": "stream",
     "text": [
      "5.251017173316544\n"
     ]
    }
   ],
   "source": [
    "SSot= ((y-y_predict)**2).sum()\n",
    "print(SSot)"
   ]
  },
  {
   "cell_type": "code",
   "execution_count": 28,
   "metadata": {},
   "outputs": [],
   "source": [
    "SSret= ((y-y.mean())**2).sum()"
   ]
  },
  {
   "cell_type": "code",
   "execution_count": 29,
   "metadata": {},
   "outputs": [],
   "source": [
    "r2=1-(SSot/SSret)"
   ]
  },
  {
   "cell_type": "code",
   "execution_count": 30,
   "metadata": {},
   "outputs": [
    {
     "data": {
      "text/plain": [
       "0.7466665893916266"
      ]
     },
     "execution_count": 30,
     "metadata": {},
     "output_type": "execute_result"
    }
   ],
   "source": [
    "r2"
   ]
  },
  {
   "cell_type": "code",
   "execution_count": 31,
   "metadata": {},
   "outputs": [],
   "source": [
    "from sklearn.metrics import r2_score\n",
    "score=r2_score(y,y_predict)"
   ]
  },
  {
   "cell_type": "code",
   "execution_count": 32,
   "metadata": {},
   "outputs": [
    {
     "data": {
      "text/plain": [
       "0.7466665893916266"
      ]
     },
     "execution_count": 32,
     "metadata": {},
     "output_type": "execute_result"
    }
   ],
   "source": [
    "score"
   ]
  },
  {
   "cell_type": "markdown",
   "metadata": {},
   "source": [
    "## GD vectorize Implementation\n",
    "### Implement GD without iterate through data points i.e. use vector operations"
   ]
  },
  {
   "cell_type": "code",
   "execution_count": null,
   "metadata": {},
   "outputs": [],
   "source": []
  },
  {
   "cell_type": "markdown",
   "metadata": {},
   "source": [
    "#### Plot the output and calculate R2 score\n",
    "##### Make sure that you obtained the same results"
   ]
  },
  {
   "cell_type": "code",
   "execution_count": null,
   "metadata": {},
   "outputs": [],
   "source": []
  },
  {
   "cell_type": "code",
   "execution_count": null,
   "metadata": {},
   "outputs": [],
   "source": []
  },
  {
   "cell_type": "markdown",
   "metadata": {},
   "source": [
    "## Plot loss function\n",
    "### Repeat your last vectorized implementaion version and save loss for each iteration (epoch)"
   ]
  },
  {
   "cell_type": "markdown",
   "metadata": {},
   "source": [
    "### Plot loss vs. iterations"
   ]
  },
  {
   "cell_type": "code",
   "execution_count": 33,
   "metadata": {},
   "outputs": [],
   "source": [
    "itertation=[]\n",
    "for i in range (len(cost_list)):\n",
    "    itertation.append(i)"
   ]
  },
  {
   "cell_type": "code",
   "execution_count": 34,
   "metadata": {},
   "outputs": [
    {
     "data": {
      "text/plain": [
       "Text(0, 0.5, 'Cost')"
      ]
     },
     "execution_count": 34,
     "metadata": {},
     "output_type": "execute_result"
    },
    {
     "data": {
      "image/png": "[encoded data removed]",
      "text/plain": [
       "<Figure size 432x288 with 1 Axes>"
      ]
     },
     "metadata": {
      "needs_background": "light"
     },
     "output_type": "display_data"
    }
   ],
   "source": [
    "plt.plot(itertation, cost_list)\n",
    "plt.title('loss graph')\n",
    "plt.xlabel('iterations')\n",
    "plt.ylabel('Cost')"
   ]
  },
  {
   "cell_type": "code",
   "execution_count": 35,
   "metadata": {},
   "outputs": [
    {
     "data": {
      "text/plain": [
       "Text(0, 0.5, 'Cost')"
      ]
     },
     "execution_count": 35,
     "metadata": {},
     "output_type": "execute_result"
    },
    {
     "data": {
      "image/png": "[encoded data removed]",
      "text/plain": [
       "<Figure size 432x288 with 1 Axes>"
      ]
     },
     "metadata": {
      "needs_background": "light"
     },
     "output_type": "display_data"
    }
   ],
   "source": [
    "plt.plot(theta_0_list, cost_list)\n",
    "plt.title('loss graph vs theta_0')\n",
    "plt.xlabel('theta_0')\n",
    "plt.ylabel('Cost')"
   ]
  },
  {
   "cell_type": "code",
   "execution_count": 36,
   "metadata": {},
   "outputs": [
    {
     "data": {
      "text/plain": [
       "Text(0, 0.5, 'Cost')"
      ]
     },
     "execution_count": 36,
     "metadata": {},
     "output_type": "execute_result"
    },
    {
     "data": {
      "image/png": "[encoded data removed]",
      "text/plain": [
       "<Figure size 432x288 with 1 Axes>"
      ]
     },
     "metadata": {
      "needs_background": "light"
     },
     "output_type": "display_data"
    }
   ],
   "source": [
    "plt.plot(theta_1_list, cost_list)\n",
    "plt.title('loss graph vs theta_1')\n",
    "plt.xlabel('theta_1')\n",
    "plt.ylabel('Cost')"
   ]
  },
  {
   "cell_type": "code",
   "execution_count": 37,
   "metadata": {},
   "outputs": [
    {
     "data": {
      "image/png": "[encoded data removed]",
      "text/plain": [
       "<Figure size 432x288 with 1 Axes>"
      ]
     },
     "metadata": {
      "needs_background": "light"
     },
     "output_type": "display_data"
    }
   ],
   "source": [
    "plt.plot(hypothes_list);"
   ]
  },
  {
   "cell_type": "code",
   "execution_count": 38,
   "metadata": {},
   "outputs": [
    {
     "data": {
      "image/png": "[encoded data removed]",
      "text/plain": [
       "<Figure size 432x288 with 1 Axes>"
      ]
     },
     "metadata": {
      "needs_background": "light"
     },
     "output_type": "display_data"
    }
   ],
   "source": [
    "plt.plot(x, hypothes_list[1])\n",
    "plt.title('hypothes_list vs x')\n",
    "plt.xlabel('x')\n",
    "plt.ylabel('hypothes_list');"
   ]
  },
  {
   "cell_type": "markdown",
   "metadata": {},
   "source": [
    "- loss - epoch\n",
    "- loss - theta0\n",
    "- loss - theta1\n",
    "- x , y with plot\n",
    "- hypothis ,x "
   ]
  },
  {
   "cell_type": "markdown",
   "metadata": {},
   "source": [
    "## Multivariate LR"
   ]
  },
  {
   "cell_type": "markdown",
   "metadata": {},
   "source": [
    "#### Read MultipleLR csv file into numpy array  (check your data)\n",
    "##### Data source\n",
    "https://college.cengage.com/mathematics/brase/understandable_statistics/7e/students/datasets/slr/frames/frame.html\n"
   ]
  },
  {
   "cell_type": "code",
   "execution_count": 39,
   "metadata": {},
   "outputs": [
    {
     "data": {
      "text/html": [
       "<div>\n",
       "<style scoped>\n",
       "    .dataframe tbody tr th:only-of-type {\n",
       "        vertical-align: middle;\n",
       "    }\n",
       "\n",
       "    .dataframe tbody tr th {\n",
       "        vertical-align: top;\n",
       "    }\n",
       "\n",
       "    .dataframe thead th {\n",
       "        text-align: right;\n",
       "    }\n",
       "</style>\n",
       "<table border=\"1\" class=\"dataframe\">\n",
       "  <thead>\n",
       "    <tr style=\"text-align: right;\">\n",
       "      <th></th>\n",
       "      <th>0</th>\n",
       "      <th>1</th>\n",
       "      <th>2</th>\n",
       "      <th>3</th>\n",
       "    </tr>\n",
       "  </thead>\n",
       "  <tbody>\n",
       "    <tr>\n",
       "      <th>0</th>\n",
       "      <td>73</td>\n",
       "      <td>80</td>\n",
       "      <td>75</td>\n",
       "      <td>152</td>\n",
       "    </tr>\n",
       "    <tr>\n",
       "      <th>1</th>\n",
       "      <td>93</td>\n",
       "      <td>88</td>\n",
       "      <td>93</td>\n",
       "      <td>185</td>\n",
       "    </tr>\n",
       "    <tr>\n",
       "      <th>2</th>\n",
       "      <td>89</td>\n",
       "      <td>91</td>\n",
       "      <td>90</td>\n",
       "      <td>180</td>\n",
       "    </tr>\n",
       "    <tr>\n",
       "      <th>3</th>\n",
       "      <td>96</td>\n",
       "      <td>98</td>\n",
       "      <td>100</td>\n",
       "      <td>196</td>\n",
       "    </tr>\n",
       "    <tr>\n",
       "      <th>4</th>\n",
       "      <td>73</td>\n",
       "      <td>66</td>\n",
       "      <td>70</td>\n",
       "      <td>142</td>\n",
       "    </tr>\n",
       "    <tr>\n",
       "      <th>5</th>\n",
       "      <td>53</td>\n",
       "      <td>46</td>\n",
       "      <td>55</td>\n",
       "      <td>101</td>\n",
       "    </tr>\n",
       "    <tr>\n",
       "      <th>6</th>\n",
       "      <td>69</td>\n",
       "      <td>74</td>\n",
       "      <td>77</td>\n",
       "      <td>149</td>\n",
       "    </tr>\n",
       "    <tr>\n",
       "      <th>7</th>\n",
       "      <td>47</td>\n",
       "      <td>56</td>\n",
       "      <td>60</td>\n",
       "      <td>115</td>\n",
       "    </tr>\n",
       "    <tr>\n",
       "      <th>8</th>\n",
       "      <td>87</td>\n",
       "      <td>79</td>\n",
       "      <td>90</td>\n",
       "      <td>175</td>\n",
       "    </tr>\n",
       "    <tr>\n",
       "      <th>9</th>\n",
       "      <td>79</td>\n",
       "      <td>70</td>\n",
       "      <td>88</td>\n",
       "      <td>164</td>\n",
       "    </tr>\n",
       "    <tr>\n",
       "      <th>10</th>\n",
       "      <td>69</td>\n",
       "      <td>70</td>\n",
       "      <td>73</td>\n",
       "      <td>141</td>\n",
       "    </tr>\n",
       "    <tr>\n",
       "      <th>11</th>\n",
       "      <td>70</td>\n",
       "      <td>65</td>\n",
       "      <td>74</td>\n",
       "      <td>141</td>\n",
       "    </tr>\n",
       "    <tr>\n",
       "      <th>12</th>\n",
       "      <td>93</td>\n",
       "      <td>95</td>\n",
       "      <td>91</td>\n",
       "      <td>184</td>\n",
       "    </tr>\n",
       "    <tr>\n",
       "      <th>13</th>\n",
       "      <td>79</td>\n",
       "      <td>80</td>\n",
       "      <td>73</td>\n",
       "      <td>152</td>\n",
       "    </tr>\n",
       "    <tr>\n",
       "      <th>14</th>\n",
       "      <td>70</td>\n",
       "      <td>73</td>\n",
       "      <td>78</td>\n",
       "      <td>148</td>\n",
       "    </tr>\n",
       "    <tr>\n",
       "      <th>15</th>\n",
       "      <td>93</td>\n",
       "      <td>89</td>\n",
       "      <td>96</td>\n",
       "      <td>192</td>\n",
       "    </tr>\n",
       "    <tr>\n",
       "      <th>16</th>\n",
       "      <td>78</td>\n",
       "      <td>75</td>\n",
       "      <td>68</td>\n",
       "      <td>147</td>\n",
       "    </tr>\n",
       "    <tr>\n",
       "      <th>17</th>\n",
       "      <td>81</td>\n",
       "      <td>90</td>\n",
       "      <td>93</td>\n",
       "      <td>183</td>\n",
       "    </tr>\n",
       "    <tr>\n",
       "      <th>18</th>\n",
       "      <td>88</td>\n",
       "      <td>92</td>\n",
       "      <td>86</td>\n",
       "      <td>177</td>\n",
       "    </tr>\n",
       "    <tr>\n",
       "      <th>19</th>\n",
       "      <td>78</td>\n",
       "      <td>83</td>\n",
       "      <td>77</td>\n",
       "      <td>159</td>\n",
       "    </tr>\n",
       "    <tr>\n",
       "      <th>20</th>\n",
       "      <td>82</td>\n",
       "      <td>86</td>\n",
       "      <td>90</td>\n",
       "      <td>177</td>\n",
       "    </tr>\n",
       "    <tr>\n",
       "      <th>21</th>\n",
       "      <td>86</td>\n",
       "      <td>82</td>\n",
       "      <td>89</td>\n",
       "      <td>175</td>\n",
       "    </tr>\n",
       "    <tr>\n",
       "      <th>22</th>\n",
       "      <td>78</td>\n",
       "      <td>83</td>\n",
       "      <td>85</td>\n",
       "      <td>175</td>\n",
       "    </tr>\n",
       "    <tr>\n",
       "      <th>23</th>\n",
       "      <td>76</td>\n",
       "      <td>83</td>\n",
       "      <td>71</td>\n",
       "      <td>149</td>\n",
       "    </tr>\n",
       "    <tr>\n",
       "      <th>24</th>\n",
       "      <td>96</td>\n",
       "      <td>93</td>\n",
       "      <td>95</td>\n",
       "      <td>192</td>\n",
       "    </tr>\n",
       "  </tbody>\n",
       "</table>\n",
       "</div>"
      ],
      "text/plain": [
       "     0   1    2    3\n",
       "0   73  80   75  152\n",
       "1   93  88   93  185\n",
       "2   89  91   90  180\n",
       "3   96  98  100  196\n",
       "4   73  66   70  142\n",
       "5   53  46   55  101\n",
       "6   69  74   77  149\n",
       "7   47  56   60  115\n",
       "8   87  79   90  175\n",
       "9   79  70   88  164\n",
       "10  69  70   73  141\n",
       "11  70  65   74  141\n",
       "12  93  95   91  184\n",
       "13  79  80   73  152\n",
       "14  70  73   78  148\n",
       "15  93  89   96  192\n",
       "16  78  75   68  147\n",
       "17  81  90   93  183\n",
       "18  88  92   86  177\n",
       "19  78  83   77  159\n",
       "20  82  86   90  177\n",
       "21  86  82   89  175\n",
       "22  78  83   85  175\n",
       "23  76  83   71  149\n",
       "24  96  93   95  192"
      ]
     },
     "execution_count": 39,
     "metadata": {},
     "output_type": "execute_result"
    }
   ],
   "source": [
    "df2=pd.read_csv('MultipleLR.csv', header=None)\n",
    "df2"
   ]
  },
  {
   "cell_type": "code",
   "execution_count": 40,
   "metadata": {},
   "outputs": [],
   "source": [
    "x=df2.iloc[:, :-1]"
   ]
  },
  {
   "cell_type": "code",
   "execution_count": 41,
   "metadata": {},
   "outputs": [
    {
     "name": "stdout",
     "output_type": "stream",
     "text": [
      "     0   1    2\n",
      "0   73  80   75\n",
      "1   93  88   93\n",
      "2   89  91   90\n",
      "3   96  98  100\n",
      "4   73  66   70\n",
      "5   53  46   55\n",
      "6   69  74   77\n",
      "7   47  56   60\n",
      "8   87  79   90\n",
      "9   79  70   88\n",
      "10  69  70   73\n",
      "11  70  65   74\n",
      "12  93  95   91\n",
      "13  79  80   73\n",
      "14  70  73   78\n",
      "15  93  89   96\n",
      "16  78  75   68\n",
      "17  81  90   93\n",
      "18  88  92   86\n",
      "19  78  83   77\n",
      "20  82  86   90\n",
      "21  86  82   89\n",
      "22  78  83   85\n",
      "23  76  83   71\n",
      "24  96  93   95\n"
     ]
    }
   ],
   "source": [
    "print (x)"
   ]
  },
  {
   "cell_type": "code",
   "execution_count": 42,
   "metadata": {},
   "outputs": [],
   "source": [
    "y=df2.iloc[: , -1]"
   ]
  },
  {
   "cell_type": "code",
   "execution_count": 43,
   "metadata": {},
   "outputs": [
    {
     "name": "stdout",
     "output_type": "stream",
     "text": [
      "[152 185 180 196 142 101 149 115 175 164 141 141 184 152 148 192 147 183\n",
      " 177 159 177 175 175 149 192]\n"
     ]
    }
   ],
   "source": [
    "y = np.array(y)\n",
    "print(y)"
   ]
  },
  {
   "cell_type": "code",
   "execution_count": 44,
   "metadata": {},
   "outputs": [
    {
     "name": "stdout",
     "output_type": "stream",
     "text": [
      "25\n"
     ]
    }
   ],
   "source": [
    "print(len(y))"
   ]
  },
  {
   "cell_type": "code",
   "execution_count": 45,
   "metadata": {},
   "outputs": [
    {
     "data": {
      "text/html": [
       "<div>\n",
       "<style scoped>\n",
       "    .dataframe tbody tr th:only-of-type {\n",
       "        vertical-align: middle;\n",
       "    }\n",
       "\n",
       "    .dataframe tbody tr th {\n",
       "        vertical-align: top;\n",
       "    }\n",
       "\n",
       "    .dataframe thead th {\n",
       "        text-align: right;\n",
       "    }\n",
       "</style>\n",
       "<table border=\"1\" class=\"dataframe\">\n",
       "  <thead>\n",
       "    <tr style=\"text-align: right;\">\n",
       "      <th></th>\n",
       "      <th>ones</th>\n",
       "      <th>0</th>\n",
       "      <th>1</th>\n",
       "      <th>2</th>\n",
       "    </tr>\n",
       "  </thead>\n",
       "  <tbody>\n",
       "    <tr>\n",
       "      <th>0</th>\n",
       "      <td>1.0</td>\n",
       "      <td>73</td>\n",
       "      <td>80</td>\n",
       "      <td>75</td>\n",
       "    </tr>\n",
       "    <tr>\n",
       "      <th>1</th>\n",
       "      <td>1.0</td>\n",
       "      <td>93</td>\n",
       "      <td>88</td>\n",
       "      <td>93</td>\n",
       "    </tr>\n",
       "    <tr>\n",
       "      <th>2</th>\n",
       "      <td>1.0</td>\n",
       "      <td>89</td>\n",
       "      <td>91</td>\n",
       "      <td>90</td>\n",
       "    </tr>\n",
       "    <tr>\n",
       "      <th>3</th>\n",
       "      <td>1.0</td>\n",
       "      <td>96</td>\n",
       "      <td>98</td>\n",
       "      <td>100</td>\n",
       "    </tr>\n",
       "    <tr>\n",
       "      <th>4</th>\n",
       "      <td>1.0</td>\n",
       "      <td>73</td>\n",
       "      <td>66</td>\n",
       "      <td>70</td>\n",
       "    </tr>\n",
       "    <tr>\n",
       "      <th>5</th>\n",
       "      <td>1.0</td>\n",
       "      <td>53</td>\n",
       "      <td>46</td>\n",
       "      <td>55</td>\n",
       "    </tr>\n",
       "    <tr>\n",
       "      <th>6</th>\n",
       "      <td>1.0</td>\n",
       "      <td>69</td>\n",
       "      <td>74</td>\n",
       "      <td>77</td>\n",
       "    </tr>\n",
       "    <tr>\n",
       "      <th>7</th>\n",
       "      <td>1.0</td>\n",
       "      <td>47</td>\n",
       "      <td>56</td>\n",
       "      <td>60</td>\n",
       "    </tr>\n",
       "    <tr>\n",
       "      <th>8</th>\n",
       "      <td>1.0</td>\n",
       "      <td>87</td>\n",
       "      <td>79</td>\n",
       "      <td>90</td>\n",
       "    </tr>\n",
       "    <tr>\n",
       "      <th>9</th>\n",
       "      <td>1.0</td>\n",
       "      <td>79</td>\n",
       "      <td>70</td>\n",
       "      <td>88</td>\n",
       "    </tr>\n",
       "    <tr>\n",
       "      <th>10</th>\n",
       "      <td>1.0</td>\n",
       "      <td>69</td>\n",
       "      <td>70</td>\n",
       "      <td>73</td>\n",
       "    </tr>\n",
       "    <tr>\n",
       "      <th>11</th>\n",
       "      <td>1.0</td>\n",
       "      <td>70</td>\n",
       "      <td>65</td>\n",
       "      <td>74</td>\n",
       "    </tr>\n",
       "    <tr>\n",
       "      <th>12</th>\n",
       "      <td>1.0</td>\n",
       "      <td>93</td>\n",
       "      <td>95</td>\n",
       "      <td>91</td>\n",
       "    </tr>\n",
       "    <tr>\n",
       "      <th>13</th>\n",
       "      <td>1.0</td>\n",
       "      <td>79</td>\n",
       "      <td>80</td>\n",
       "      <td>73</td>\n",
       "    </tr>\n",
       "    <tr>\n",
       "      <th>14</th>\n",
       "      <td>1.0</td>\n",
       "      <td>70</td>\n",
       "      <td>73</td>\n",
       "      <td>78</td>\n",
       "    </tr>\n",
       "    <tr>\n",
       "      <th>15</th>\n",
       "      <td>1.0</td>\n",
       "      <td>93</td>\n",
       "      <td>89</td>\n",
       "      <td>96</td>\n",
       "    </tr>\n",
       "    <tr>\n",
       "      <th>16</th>\n",
       "      <td>1.0</td>\n",
       "      <td>78</td>\n",
       "      <td>75</td>\n",
       "      <td>68</td>\n",
       "    </tr>\n",
       "    <tr>\n",
       "      <th>17</th>\n",
       "      <td>1.0</td>\n",
       "      <td>81</td>\n",
       "      <td>90</td>\n",
       "      <td>93</td>\n",
       "    </tr>\n",
       "    <tr>\n",
       "      <th>18</th>\n",
       "      <td>1.0</td>\n",
       "      <td>88</td>\n",
       "      <td>92</td>\n",
       "      <td>86</td>\n",
       "    </tr>\n",
       "    <tr>\n",
       "      <th>19</th>\n",
       "      <td>1.0</td>\n",
       "      <td>78</td>\n",
       "      <td>83</td>\n",
       "      <td>77</td>\n",
       "    </tr>\n",
       "    <tr>\n",
       "      <th>20</th>\n",
       "      <td>1.0</td>\n",
       "      <td>82</td>\n",
       "      <td>86</td>\n",
       "      <td>90</td>\n",
       "    </tr>\n",
       "    <tr>\n",
       "      <th>21</th>\n",
       "      <td>1.0</td>\n",
       "      <td>86</td>\n",
       "      <td>82</td>\n",
       "      <td>89</td>\n",
       "    </tr>\n",
       "    <tr>\n",
       "      <th>22</th>\n",
       "      <td>1.0</td>\n",
       "      <td>78</td>\n",
       "      <td>83</td>\n",
       "      <td>85</td>\n",
       "    </tr>\n",
       "    <tr>\n",
       "      <th>23</th>\n",
       "      <td>1.0</td>\n",
       "      <td>76</td>\n",
       "      <td>83</td>\n",
       "      <td>71</td>\n",
       "    </tr>\n",
       "    <tr>\n",
       "      <th>24</th>\n",
       "      <td>1.0</td>\n",
       "      <td>96</td>\n",
       "      <td>93</td>\n",
       "      <td>95</td>\n",
       "    </tr>\n",
       "  </tbody>\n",
       "</table>\n",
       "</div>"
      ],
      "text/plain": [
       "    ones   0   1    2\n",
       "0    1.0  73  80   75\n",
       "1    1.0  93  88   93\n",
       "2    1.0  89  91   90\n",
       "3    1.0  96  98  100\n",
       "4    1.0  73  66   70\n",
       "5    1.0  53  46   55\n",
       "6    1.0  69  74   77\n",
       "7    1.0  47  56   60\n",
       "8    1.0  87  79   90\n",
       "9    1.0  79  70   88\n",
       "10   1.0  69  70   73\n",
       "11   1.0  70  65   74\n",
       "12   1.0  93  95   91\n",
       "13   1.0  79  80   73\n",
       "14   1.0  70  73   78\n",
       "15   1.0  93  89   96\n",
       "16   1.0  78  75   68\n",
       "17   1.0  81  90   93\n",
       "18   1.0  88  92   86\n",
       "19   1.0  78  83   77\n",
       "20   1.0  82  86   90\n",
       "21   1.0  86  82   89\n",
       "22   1.0  78  83   85\n",
       "23   1.0  76  83   71\n",
       "24   1.0  96  93   95"
      ]
     },
     "execution_count": 45,
     "metadata": {},
     "output_type": "execute_result"
    }
   ],
   "source": [
    "one = np.ones(len(y))\n",
    "x.insert(0,\"ones\",one,True)\n",
    "x"
   ]
  },
  {
   "cell_type": "code",
   "execution_count": 46,
   "metadata": {},
   "outputs": [
    {
     "data": {
      "text/plain": [
       "array([[  1.,  73.,  80.,  75.],\n",
       "       [  1.,  93.,  88.,  93.],\n",
       "       [  1.,  89.,  91.,  90.],\n",
       "       [  1.,  96.,  98., 100.],\n",
       "       [  1.,  73.,  66.,  70.],\n",
       "       [  1.,  53.,  46.,  55.],\n",
       "       [  1.,  69.,  74.,  77.],\n",
       "       [  1.,  47.,  56.,  60.],\n",
       "       [  1.,  87.,  79.,  90.],\n",
       "       [  1.,  79.,  70.,  88.],\n",
       "       [  1.,  69.,  70.,  73.],\n",
       "       [  1.,  70.,  65.,  74.],\n",
       "       [  1.,  93.,  95.,  91.],\n",
       "       [  1.,  79.,  80.,  73.],\n",
       "       [  1.,  70.,  73.,  78.],\n",
       "       [  1.,  93.,  89.,  96.],\n",
       "       [  1.,  78.,  75.,  68.],\n",
       "       [  1.,  81.,  90.,  93.],\n",
       "       [  1.,  88.,  92.,  86.],\n",
       "       [  1.,  78.,  83.,  77.],\n",
       "       [  1.,  82.,  86.,  90.],\n",
       "       [  1.,  86.,  82.,  89.],\n",
       "       [  1.,  78.,  83.,  85.],\n",
       "       [  1.,  76.,  83.,  71.],\n",
       "       [  1.,  96.,  93.,  95.]])"
      ]
     },
     "execution_count": 46,
     "metadata": {},
     "output_type": "execute_result"
    }
   ],
   "source": [
    "x = np.array(x)\n",
    "x"
   ]
  },
  {
   "cell_type": "code",
   "execution_count": 47,
   "metadata": {},
   "outputs": [
    {
     "data": {
      "text/plain": [
       "array([[0.],\n",
       "       [0.],\n",
       "       [0.],\n",
       "       [0.]])"
      ]
     },
     "execution_count": 47,
     "metadata": {},
     "output_type": "execute_result"
    }
   ],
   "source": [
    "theta = np.zeros((4,1))\n",
    "theta"
   ]
  },
  {
   "cell_type": "markdown",
   "metadata": {},
   "source": [
    "### Repeat your implementation but for more than one variable"
   ]
  },
  {
   "cell_type": "code",
   "execution_count": 48,
   "metadata": {},
   "outputs": [
    {
     "name": "stdout",
     "output_type": "stream",
     "text": [
      "theta =  [[0.00826966 0.01006505 0.00979302 0.01066351 0.0077256  0.00549497\n",
      "  0.00810644 0.00625665 0.00952099 0.00892253 0.0076712  0.0076712\n",
      "  0.01001064 0.00826966 0.00805204 0.01044589 0.00799763 0.00995623\n",
      "  0.0096298  0.0086505  0.0096298  0.00952099 0.00952099 0.00810644\n",
      "  0.01044589]\n",
      " [0.60614459 0.73774177 0.7178028  0.78160749 0.56626665 0.40276713\n",
      "  0.59418121 0.45859623 0.69786383 0.65399811 0.56227886 0.56227886\n",
      "  0.73375397 0.60614459 0.59019341 0.76565632 0.58620562 0.72976618\n",
      "  0.70583942 0.63405914 0.70583942 0.69786383 0.69786383 0.59418121\n",
      "  0.76565632]\n",
      " [0.60966766 0.74202972 0.72197486 0.7861504  0.56955795 0.40510812\n",
      "  0.59763475 0.46126172 0.70192    0.65779932 0.56554697 0.56554697\n",
      "  0.73801875 0.60966766 0.59362377 0.77010652 0.5896128  0.73400777\n",
      "  0.70994195 0.63774446 0.70994195 0.70192    0.70192    0.59763475\n",
      "  0.77010652]\n",
      " [0.62923873 0.76584977 0.74515113 0.81138678 0.58784144 0.41811258\n",
      "  0.61681954 0.47606877 0.72445248 0.67891547 0.58370171 0.58370171\n",
      "  0.76171004 0.62923873 0.61267981 0.79482787 0.60854009 0.75757031\n",
      "  0.73273194 0.65821683 0.73273194 0.72445248 0.72445248 0.61681954\n",
      "  0.79482787]]\n",
      "it takes iterations =  2413\n"
     ]
    }
   ],
   "source": [
    "iterations = 100000\n",
    "m= len(y)\n",
    "\n",
    "theta_list=[]\n",
    "cost_list=[]\n",
    "\n",
    "gradiant_list=[]\n",
    "\n",
    "r=0.0000001\n",
    "\n",
    "for i in range(iterations):\n",
    "    y_pred= x @ theta \n",
    "\n",
    "    cost_multiple =((y_pred - y)**2).sum()/(2*m)\n",
    "    \n",
    "    #print(cost_multiple)\n",
    "    cost_list.append(cost_multiple)\n",
    "    \n",
    "    gradiant= x.T @ (y_pred-y)/m\n",
    "    gradiant_list.append(gradiant)\n",
    "    \n",
    "    theta = theta - r* gradiant\n",
    "    theta_list.append(theta)\n",
    "    \n",
    "    #print('theta = ', theta)\n",
    "    \n",
    "    if i > 0:\n",
    "        if abs(cost_list[i-1] - cost_list[i] < 0.0001):\n",
    "            break\n",
    "            \n",
    "        if abs(np.linalg.norm([theta_list[i]])-np.linalg.norm([theta_list[i-1]]))< 0.0001:\n",
    "            break\n",
    "        \n",
    "        if abs(np.linalg.norm([gradiant_list[i]])-np.linalg.norm([gradiant_list[i-1]])) < 0.0001:\n",
    "            break\n",
    "    \n",
    "print('theta = ', theta)\n",
    "            \n",
    "print('it takes iterations = ', i)"
   ]
  },
  {
   "cell_type": "code",
   "execution_count": 49,
   "metadata": {},
   "outputs": [
    {
     "data": {
      "text/plain": [
       "(4, 25)"
      ]
     },
     "execution_count": 49,
     "metadata": {},
     "output_type": "execute_result"
    }
   ],
   "source": [
    "theta.shape"
   ]
  },
  {
   "cell_type": "code",
   "execution_count": 50,
   "metadata": {},
   "outputs": [
    {
     "name": "stdout",
     "output_type": "stream",
     "text": [
      "[[0.00826966 0.01006505 0.00979302 0.01066351]\n",
      " [0.0077256  0.00549497 0.00810644 0.00625665]\n",
      " [0.00952099 0.00892253 0.0076712  0.0076712 ]\n",
      " [0.01001064 0.00826966 0.00805204 0.01044589]\n",
      " [0.00799763 0.00995623 0.0096298  0.0086505 ]\n",
      " [0.0096298  0.00952099 0.00952099 0.00810644]\n",
      " [0.01044589 0.60614459 0.73774177 0.7178028 ]\n",
      " [0.78160749 0.56626665 0.40276713 0.59418121]\n",
      " [0.45859623 0.69786383 0.65399811 0.56227886]\n",
      " [0.56227886 0.73375397 0.60614459 0.59019341]\n",
      " [0.76565632 0.58620562 0.72976618 0.70583942]\n",
      " [0.63405914 0.70583942 0.69786383 0.69786383]\n",
      " [0.59418121 0.76565632 0.60966766 0.74202972]\n",
      " [0.72197486 0.7861504  0.56955795 0.40510812]\n",
      " [0.59763475 0.46126172 0.70192    0.65779932]\n",
      " [0.56554697 0.56554697 0.73801875 0.60966766]\n",
      " [0.59362377 0.77010652 0.5896128  0.73400777]\n",
      " [0.70994195 0.63774446 0.70994195 0.70192   ]\n",
      " [0.70192    0.59763475 0.77010652 0.62923873]\n",
      " [0.76584977 0.74515113 0.81138678 0.58784144]\n",
      " [0.41811258 0.61681954 0.47606877 0.72445248]\n",
      " [0.67891547 0.58370171 0.58370171 0.76171004]\n",
      " [0.62923873 0.61267981 0.79482787 0.60854009]\n",
      " [0.75757031 0.73273194 0.65821683 0.73273194]\n",
      " [0.72445248 0.72445248 0.61681954 0.79482787]]\n"
     ]
    }
   ],
   "source": [
    "theta = theta.reshape(25,4)\n",
    "print(theta)"
   ]
  },
  {
   "cell_type": "code",
   "execution_count": 51,
   "metadata": {},
   "outputs": [
    {
     "name": "stdout",
     "output_type": "stream",
     "text": [
      "[335149.5, 333863.49352119095, 332582.52257163805, 331306.567434042, 330035.60846830945, 328769.6261112502, 327508.60087627673, 326252.5133531037, 325001.34420744923, 323755.0741807379, 322513.68408980337, 321277.15482659393, 320045.4673578779, 318818.6027249509, 317596.5420433437, 316379.2665025321, 315166.7573656469, 313958.99596918555, 312755.9637227252, 311557.64210863627, 310364.0126817973, 309175.05706931144, 307990.7569702233, 306811.0941552373, 305636.05046643736, 304465.607817007, 303299.7481909512, 302138.4536428189, 300981.7062974272, 299829.48834958556, 298681.7820638222, 297538.56977411115, 296399.83388359996, 295265.5568643391, 294135.72125701216, 293010.30967066705, 291889.3047824483, 290772.68933733035, 289660.4461478522, 288552.5580938526, 287449.0081222066, 286349.77924656315, 285254.8545470835, 284164.2171701808, 283077.8503282608, 281995.73729946336, 280917.861427405, 279844.2061209224, 278774.75485381763, 277709.49116460304, 276648.3986562482, 275591.4609959274, 274538.6619147685, 273489.9852076023, 272445.4147327132, 271404.93441159034, 270368.52822868095, 269336.1802311429, 268307.87452859996, 267283.59529289656, 266263.32675785443, 265247.05321903015, 264234.75903347286, 263226.42861948407, 262222.04645637743, 261221.59708423994, 260225.06510369398, 259232.43517566044, 258243.6920211222, 257258.82042088933, 256277.80521536485, 255300.63130431107, 254327.28364661735, 253357.7472600685, 252392.00722111453, 251430.04866464026, 250471.85678373708, 249517.41682947494, 248566.71411067492, 247619.73399368383, 246676.4619021481, 245736.88331679016, 244800.98377518452, 243868.7488715353, 242940.16425645453, 242015.2156367411, 241093.88877516097, 240176.16949022797, 239262.0436559853, 238351.49720178836, 237444.5161120881, 236541.08642621525, 235641.19423816536, 234744.8256963849, 233851.96700355798, 232962.60441639397, 232076.7242454159, 231194.31285474994, 230315.35666191526, 229439.84213761508, 228567.75580552855, 227699.08424210304, 226833.81407634768, 225971.93198962763, 225113.4247154589, 224258.27903930427, 223406.48179836973, 222558.01988140214, 221712.8802284871, 220871.0498308482, 220032.5157306466, 219197.26502078163, 218365.28484469216, 217536.56239615864, 216711.0849191061, 215888.83970740755, 215069.81410468873, 214253.99550413302, 213441.37134828765, 212631.92912887008, 211825.6563865757, 211022.54071088615, 210222.569739878, 209425.7311600326, 208632.01270604657, 207841.4021606431, 207053.88735438368, 206269.45616548092, 205488.09651961192, 204709.79638973248, 203934.5437958918, 203162.32680504845, 202393.1335308861, 201626.9521336313, 200863.77081987052, 200103.5778423691, 199346.36149989025, 198592.1101370149, 197840.81214396254, 197092.4559564121, 196347.03005532429, 195604.52296676429, 194864.92326172476, 194128.21955595043, 193394.4005097626, 192663.4548278845, 191935.3712592677, 191210.13859691867, 190487.74567772634, 189768.18138229058, 189051.43463475048, 188337.4944026143, 187626.3496965896, 186917.98957041386, 186212.40312068618, 185509.57948669948, 184809.50785027313, 184112.17743558675, 183417.57750901394, 182725.69737895738, 182036.5263956842, 181350.05395116183, 180666.26947889515, 179985.16245376327, 179306.72239185814, 178630.93885032277, 177957.80142719054, 177287.29976122512, 176619.42353176116, 175954.16245854518, 175291.50630157744, 174631.44486095427, 173973.96797671117, 173319.06552866637, 172666.72743626498, 172016.943658424, 171369.70419337752, 170724.999078523, 170082.81839026778, 169443.1522438764, 168805.9907933184, 168171.32423111686, 167539.14278819732, 166909.4367337374, 166282.19637501717, 165657.41205726977, 165035.07416353305, 164415.17311450123, 163797.69936837762, 163182.6434207278, 162569.99580433322, 161959.74708904556, 161351.8878816414, 160746.40882567785, 160143.30060134846, 159542.55392533977, 158944.1595506883, 158348.10826663836, 157754.39089850025, 157162.998307509, 156573.9213906837, 155987.1510806874, 155402.67834568757, 154820.49418921702, 154240.58965003546, 153662.95580199157, 153087.58375388553, 152514.46464933228, 151943.58966662514, 151374.9500186, 150808.5369525001, 150244.34174984123, 149682.3557262777, 149122.57023146845, 148564.97664894405, 148009.56639597408, 147456.33092343487, 146905.26171567806, 146356.35029039945, 145809.5881985085, 145264.96702399815, 144722.47838381544, 144182.11392773234, 143643.86533821735, 143107.72433030725, 142573.68265147984, 142041.7320815268, 141511.8644324271, 140984.071548221, 140458.34530488457, 139934.6776102046, 139413.06040365406, 138893.48565626796, 138375.9453705198, 137860.43158019855, 137346.93635028595, 136835.45177683432, 136325.96998684504, 135818.48313814725, 135312.98341927712, 134809.4630493578, 134307.9142779794, 133808.32938507985, 133310.70068082606, 132815.02050549554, 132321.2812293584, 131829.47525256005, 131339.59500500417, 130851.6329462362, 130365.5815653272, 129881.4333807583, 129399.1809403056, 128918.8168209253, 128440.33362863965, 127963.72399842291, 127488.98059408813, 127016.09610817429, 126545.0632618336, 126075.87480471964, 125608.52351487575, 125143.00219862376, 124679.30369045332, 124217.42085291166, 123757.34657649368, 123299.07377953244, 122842.5954080903, 122387.90443585023, 121934.99386400776, 121483.85672116313, 121034.48606321402, 120586.87497324876, 120141.01656143974, 119696.90396493746, 119254.53034776475, 118813.88890071175, 118374.97284123086, 117937.77541333258, 117502.28988748133, 117068.509560492, 116636.42775542663, 116206.03782149185, 115777.3331339362, 115350.30709394852, 114924.95312855605, 114501.26469052344, 114079.23525825201, 113658.85833567912, 113240.12745217852, 112823.03616246048, 112407.57804647267, 111993.7467093014, 111581.53578107312, 111170.93891685635, 110761.94979656409, 110354.56212485649, 109948.76963104394, 109544.56606899058, 109141.94521701816, 108740.90087781026, 108341.42687831685, 107943.51706965934, 107547.16532703594, 107152.3655496273, 106759.1116605027, 106367.39760652649, 105977.21735826478, 105588.56490989288, 105201.43427910269, 104815.81950701057, 104431.71465806582, 104049.1138199591, 103668.01110353155, 103288.40064268414, 102910.27659428732, 102533.63313809111, 102158.46447663553, 101784.76483516129, 101412.52846152103, 101041.74962609063, 100672.42262168117, 100304.54176345095, 99938.10138881803, 99573.09585737312, 99209.5195507927, 98847.36687275257, 98486.63224884168, 98127.31012647632, 97769.39497481477, 97412.88128467195, 97057.76356843486, 96704.03635997791, 96351.69421457894, 96000.7317088352, 95651.14344058021, 95302.92402880026, 94956.06811355177, 94610.57035587875, 94266.42543773066, 93923.6280618804, 93582.17295184304, 93242.05485179428, 92903.26852648985, 92565.8087611847, 92229.67036155284, 91894.8481536074, 91561.33698362097, 91229.13171804624, 90898.22724343692, 90568.61846636928, 90240.30031336343, 89913.26773080547, 89587.51568486959, 89263.03916144058, 88939.83316603671, 88617.89272373288, 88297.21287908383, 87977.78869604814, 87659.61525791211, 87342.68766721411, 87027.00104566914, 86712.55053409384, 86399.3312923316, 86087.33849917813, 85776.56735230725, 85467.01306819684, 85158.6708820554, 84851.53604774861, 84545.60383772623, 84240.86954294948, 83937.32847281836, 83634.9759550996, 83333.8073358547, 83033.81797936826, 82735.0032680767, 82437.3586024971, 82140.87940115646, 81845.56110052114, 81551.39915492665, 81258.38903650767, 80966.52623512835, 80675.80625831285, 80386.22463117633, 80097.77689635586, 79810.45861394198, 79524.2653614103, 79239.19273355341, 78955.23634241306, 78672.39181721272, 78390.65480429014, 78110.0209670305, 77830.48598579956, 77552.0455578772, 77274.69539739114, 76998.43123525109, 76723.24881908293, 76449.14391316325, 76176.11229835426, 75904.14977203873, 75633.25214805538, 75363.41525663437, 75094.63494433319, 74826.9070739727, 74560.22752457348, 74294.5921912923, 74029.99698535899, 73766.4378340136, 73503.91068044357, 73242.41148372137, 72981.93621874224, 72722.48087616227, 72464.04146233668, 72206.61399925838, 71950.19452449666, 71694.7790911363, 71440.3637677167, 71186.9446381715, 70934.51780176816, 70683.07937304804, 70432.6254817665, 70183.15227283342, 69934.65590625377, 69687.13255706854, 69440.57841529588, 69194.98968587247, 68950.36258859502, 68706.69335806218, 68463.97824361653, 68222.21350928684, 67981.39543373063, 67741.52031017678, 67502.5844463686, 67264.58416450687, 67027.51580119337, 66791.37570737432, 66556.16024828437, 66321.8658033906, 66088.4887663367, 65856.02554488763, 65624.4725608742, 65393.82625013799, 65164.08306247658, 64935.239461588804, 64707.29192502042, 64480.2369441098, 64254.071023933924, 64028.790683254694, 63804.392454465225, 63580.87288353651, 63358.2285299643, 63136.45596671607, 62915.551780178335, 62695.51257010406, 62476.33494956034, 62258.01554487629, 62040.55099559106, 61823.93795440215, 61608.1730871139, 61393.253072586114, 61179.174602683, 60965.934382222185, 60753.52912892408, 60541.955573361265, 60331.21045890823, 60121.29054169122, 59912.1925905383, 59703.91338692965, 59496.449724947975, 59289.79841122922, 59083.95626491331, 58878.92011759534, 58674.686813276705, 58471.253208316506, 58268.61617138324, 58066.77258340652, 57865.719337529146, 57665.45333905918, 57465.97150542244, 57267.27076611494, 57069.34806265568, 56872.20034853954, 56675.82458919044, 56480.217761914566, 56285.3768558539, 56091.29887193981, 55897.98082284696, 55705.41973294728, 55513.61263826417, 55322.55658642689, 55132.24863662508, 54942.68585956359, 54753.865337417265, 54565.784163786106, 54378.439443650524, 54191.82829332678, 54005.94784042256, 53820.795223792826, 53636.367593495735, 53452.66211074876, 53269.67594788503, 53087.40628830978, 52905.85032645702, 52725.00526774631, 52544.86832853979, 52365.43673609931, 52186.70772854374, 52008.67855480649, 51831.346474593105, 51654.70875833919, 51478.76268716828, 51303.50555285006, 51128.934657758655, 50955.0473148311, 50781.84084752601, 50609.31258978235, 50437.45988597842, 50266.280090890934, 50095.77056965441, 49925.92869772045, 49756.75186081749, 49588.23745491047, 49420.382886160834, 49253.18557088649, 49086.64293552214, 48920.75241657963, 48755.51146060848, 48590.91752415662, 48426.96807373116, 48263.660585759484, 48100.99254655037, 47938.96145225529, 47777.56480882986, 47616.80013199549, 47456.664947201105, 47297.156789585046, 47138.27320393723, 46980.01174466119, 46822.369975736605, 46665.345470681656, 46508.93581251581, 46353.1385937225, 46197.95141621211, 46043.371891285125, 45889.39763959526, 45736.0262911129, 45583.25548508859, 45431.08287001674, 45279.50610359937, 45128.52285271011, 44978.13079335824, 44828.32761065296, 44679.11099876773, 44530.47866090477, 44382.428309259776, 44234.95766498661, 44088.06445816226, 43941.74642775195, 43796.001321574244, 43650.82689626645, 43506.220917250066, 43362.1811586964, 43218.705403492284, 43075.791443205926, 42933.43707805301, 42791.64011686273, 42650.39837704413, 42509.70968455246, 42369.57187385578, 42229.982787901514, 42090.940278083406, 41952.4422042083, 41814.486434463266, 41677.07084538279, 41540.19332181607, 41403.85175689449, 41268.0440519991, 41132.768116728446, 40998.021868866286, 40863.803234349594, 40730.110147236606, 40596.940549675055, 40464.29239187045, 40332.163632054566, 40200.552236454, 40069.45617925885, 39938.87344259157, 39808.802016475864, 39679.23989880578, 39550.1850953149, 39421.6356195456, 39293.58949281853, 39166.044744202096, 39038.999410482174, 38912.451536131884, 38786.39917328144, 38660.84038168824, 38535.77322870697, 38411.195789259786, 38287.10614580684, 38163.502388316614, 38040.38261423659, 37917.74492846395, 37795.58744331643, 37673.908278503215, 37552.70556109604, 37431.97742550032, 37311.722013426515, 37191.93747386141, 37072.62196303972, 36953.77364441566, 36835.39068863468, 36717.471273505354, 36600.01358397125, 36483.01581208305, 36366.47615697074, 36250.3928248158, 36134.764028823694, 36019.587989196305, 35904.86293310456, 35790.58709466115, 35676.75871489331, 35563.376041715805, 35450.437329903914, 35337.940841066564, 35225.88484361963, 35114.267612759184, 35003.08743043506, 34892.3425853243, 34782.03137280491, 34672.15209492954, 34562.70306039938, 34453.68258453817, 34345.088989266194, 34236.920603074504, 34129.17576099915, 34021.852804595605, 33914.950081913186, 33808.46594746965, 33702.39876222587, 33596.746893560594, 33491.50871524532, 33386.68260741927, 33282.266956564454, 33178.26015548081, 33074.66060326152, 32971.466705268285, 32868.67687310689, 32766.289524602653, 32664.303083776118, 32562.715980818793, 32461.526652069002, 32360.733539987767, 32260.33509313488, 32160.329766145023, 32060.71601970394, 31961.492320524794, 31862.657141324515, 31764.208960800344, 31666.14626360637, 31568.467540330235, 31471.171287469882, 31374.256007410437, 31277.72020840111, 31181.562404532313, 31085.78111571267, 30990.374867646377, 30895.342191810392, 30800.68162543188, 30706.3917114657, 30612.470998571967, 30518.918041093708, 30425.731399034627, 30332.909638036926, 30240.451329359217, 30148.355049854556, 30056.619381948538, 29965.242913617425, 29874.224238366493, 29783.561955208304, 29693.254668641202, 29603.300988627794, 29513.69953057355, 29424.448915305566, 29335.547769051213, 29246.994723417087, 29158.788415367904, 29070.92748720555, 28983.410586548136, 28896.236366309226, 28809.403484677066, 28722.910605093966, 28636.756396235716, 28550.939531991055, 28465.458691441323, 28380.312558840076, 28295.499823592865, 28211.019180237046, 28126.869328421693, 28043.04897288759, 27959.556823447274, 27876.391594965175, 27793.552007337872, 27711.03678547436, 27628.84465927639, 27546.974363619, 27465.424638330973, 27384.19422817548, 27303.281882830717, 27222.686356870705, 27142.406409746098, 27062.440805765083, 26982.788314074372, 26903.447708640237, 26824.417768229683, 26745.697276391584, 26667.285021438, 26589.179796425542, 26511.380399136757, 26433.885632061632, 26356.694302379183, 26279.80522193905, 26203.217207243273, 26126.92907942803, 26050.939664245478, 25975.247792045717, 25899.85229775877, 25824.75202087666, 25749.945805435513, 25675.432499997805, 25601.210957634627, 25527.280035908007, 25453.63859685337, 25380.285506961955, 25307.21963716346, 25234.43986280858, 25161.945063651725, 25089.734123833798, 25017.805931864983, 24946.159380607653, 24874.793367259343, 24803.70679333576, 24732.898564653853, 24662.367591315015, 24592.112787688286, 24522.133072393633, 24452.4273682853, 24382.994602435287, 24313.83370611674, 24244.943614787568, 24176.323268074048, 24107.971609754477, 24039.887587742964, 23972.07015407316, 23904.518264882197, 23837.230880394596, 23770.20696490625, 23703.445486768494, 23636.945418372223, 23570.705736132084, 23504.725420470695, 23439.003455802995, 23373.53883052055, 23308.330536976035, 23243.377571467707, 23178.678934223954, 23114.233629387898, 23050.040665002074, 22986.09905299317, 22922.407809156804, 22858.96595314238, 22795.772508437993, 22732.826502355416, 22670.1269660151, 22607.672934331295, 22545.463445997146, 22483.497543469955, 22421.7742729564, 22360.292684397864, 22299.05183145582, 22238.050771497255, 22177.288565580147, 22116.76427843907, 22056.47697847072, 21996.425737719623, 21936.609631863852, 21877.027740200767, 21817.67914563288, 21758.56293465373, 21699.678197333793, 21641.024027306503, 21582.599521754313, 21524.40378139476, 21466.435910466662, 21408.69501671629, 21351.180211383682, 21293.890609188908, 21236.825328318497, 21179.983490411825, 21123.364220547603, 21066.966647230434, 21010.78990237736, 20954.833121304542, 20899.0954427139, 20843.576008679913, 20788.273964636355, 20733.188459363195, 20678.318644973457, 20623.663676900178, 20569.22271388343, 20514.994917957334, 20460.979454437187, 20407.175491906608, 20353.58220220474, 20300.198760413503, 20247.024344844885, 20194.058137028333, 20141.299321698087, 20088.747086780706, 20036.400623382517, 19984.259125777182, 19932.321791393286, 19880.58782080201, 19829.0564177048, 19777.7267889211, 19726.598144376185, 19675.669697088957, 19624.94066315987, 19574.410261758818, 19524.07771511315, 19473.942248495707, 19424.00309021286, 19374.25947159265, 19324.710626972974, 19275.355793689763, 19226.194212065282, 19177.22512539641, 19128.44777994299, 19079.861424916253, 19031.465312467233, 18983.258697675275, 18935.240838536563, 18887.41099595269, 18839.768433719302, 18792.312418514735, 18745.042219888768, 18697.957110251344, 18651.056364861375, 18604.339261815614, 18557.805082037514, 18511.45310926617, 18465.2826300453, 18419.29293371225, 18373.483312387063, 18327.85306096159, 18282.401477088617, 18237.127861171077, 18192.031516351257, 18147.111748500098, 18102.3678662065, 18057.799180766662, 18013.405006173503, 17969.184659106108, 17925.137458919176, 17881.262727632584, 17837.55978992092, 17794.027973103115, 17750.66660713205, 17707.475024584295, 17664.45256064978, 17621.59855312161, 17578.91234238585, 17536.393271411358, 17494.0406857397, 17451.853933475053, 17409.83236527419, 17367.975334336465, 17326.282196393888, 17284.75230970116, 17243.385035025854, 17202.17973563851, 17161.135777302898, 17120.252528266214, 17079.52935924936, 17038.965643437285, 16998.560756469305, 16958.314076429502, 16918.22498383716, 16878.292861637237, 16838.51709519082, 16798.897072265732, 16759.432183027056, 16720.121820027776, 16680.96537819941, 16641.962254842703, 16603.11184961836, 16564.413564537786, 16525.866803953904, 16487.470974551958, 16449.225485340405, 16411.129747641815, 16373.1831750838, 16335.385183589988, 16297.73519137104, 16260.232618915697, 16222.876888981851, 16185.667426587665, 16148.603659002718, 16111.6850157392, 16074.910928543117, 16038.280831385557, 16001.794160453961, 15965.45035414347, 15929.248853048246, 15893.189099952897, 15857.270539823878, 15821.492619800949, 15785.85478918868, 15750.356499447951, 15714.997204187532, 15679.776359155649, 15644.693422231638, 15609.747853417564, 15574.93911482995, 15540.266670691442, 15505.729987322633, 15471.328533133776, 15437.061778616659, 15402.929196336416, 15368.930260923442, 15335.064449065272, 15301.331239498544, 15267.730113000982, 15234.260552383388, 15200.92204248169, 15167.714070149015, 15134.636124247783, 15101.687695641844, 15068.868277188634, 15036.17736373138, 15003.614452091326, 14971.179041059962, 14938.87063139135, 14906.6887257944, 14874.63282892524, 14842.702447379585, 14810.89708968514, 14779.21626629404, 14747.659489575302, 14716.226273807342, 14684.916135170466, 14653.728591739466, 14622.663163476158, 14591.719372222016, 14560.896741690818, 14530.194797461298, 14499.613066969854, 14469.151079503265, 14438.808366191468, 14408.584460000298, 14378.478895724353, 14348.491209979778, 14318.620941197192, 14288.867629614524, 14259.230817269985, 14229.710047994982, 14200.304867407121, 14171.0148229032, 14141.839463652243, 14112.778340588575, 14083.831006404887, 14054.997015545378, 14026.27592419886, 13997.667290291964, 13969.170673482313, 13940.785635151753, 13912.5117383996, 13884.348548035905, 13856.295630574781, 13828.352554227698, 13800.51888889686, 13772.794206168575, 13745.178079306665, 13717.670083245901, 13690.26979458544, 13662.976791582334, 13635.790654145025, 13608.710963826878, 13581.737303819747, 13554.869258947552, 13528.106415659888, 13501.44836202567, 13474.894687726777, 13448.444984051754, 13422.098843889504, 13395.855861723026, 13369.715633623193, 13343.677757242494, 13317.741831808882, 13291.907458119576, 13266.174238534937, 13240.541776972334, 13215.00967890005, 13189.577551331211, 13164.245002817739, 13139.011643444323, 13113.877084822418, 13088.840940084261, 13063.902823876939, 13039.062352356425, 13014.319143181689, 12989.67281550881, 12965.122989985119, 12940.66928874334, 12916.311335395807, 12892.048755028636, 12867.881174195974, 12843.808220914249, 12819.829524656432, 12795.944716346348, 12772.153428353002, 12748.455294484887, 12724.849949984386, 12701.337031522127, 12677.916177191417, 12654.58702650264, 12631.349220377742, 12608.202401144685, 12585.146212531936, 12562.180299663, 12539.304309050944, 12516.517888592969, 12493.820687564972, 12471.212356616166, 12448.692547763687, 12426.260914387256, 12403.91711122382, 12381.660794362262, 12359.491621238089, 12337.409250628167, 12315.413342645466, 12293.503558733833, 12271.679561662779, 12249.941015522281, 12228.287585717624, 12206.718938964237, 12185.234743282575, 12163.834667993005, 12142.518383710714, 12121.28556234063, 12100.135877072402, 12079.069002375329, 12058.084613993382, 12037.1823889402, 12016.362005494113, 11995.623143193201, 11974.965482830352, 11954.388706448357, 11933.892497335011, 11913.476540018233, 11893.140520261228, 11872.884125057624, 11852.707042626678, 11832.608962408463, 11812.589575059088, 11792.648572445947, 11772.785647642966, 11753.00049492588, 11733.292809767532, 11713.662288833182, 11694.108629975835, 11674.6315322316, 11655.230695815042, 11635.905822114584, 11616.656613687901, 11597.482774257347, 11578.384008705389, 11559.360023070058, 11540.410524540443, 11521.535221452177, 11502.73382328294, 11484.00604064799, 11465.351585295706, 11446.770170103166, 11428.26150907171, 11409.825317322546, 11391.461311092367, 11373.169207728974, 11354.94872568693, 11336.799584523242, 11318.721504893007, 11300.714208545154, 11282.777418318132, 11264.910858135661, 11247.114253002463, 11229.387329000056, 11211.72981328251, 11194.141434072273, 11176.621920655964, 11159.171003380223, 11141.788413647553, 11124.473883912184, 11107.227147675965, 11090.047939484246, 11072.935994921807, 11055.891050608781, 11038.912844196597, 11022.001114363951, 11005.155600812775, 10988.376044264236, 10971.66218645473, 10955.013770131936, 10938.430539050838, 10921.912237969767, 10905.458612646506, 10889.06940983434, 10872.744377278193, 10856.48326371072, 10840.285818848442, 10824.151793387915, 10808.080939001853, 10792.073008335352, 10776.12775500205, 10760.244933580341, 10744.4242996096, 10728.665609586436, 10712.968620960914, 10697.333092132832, 10681.758782448023, 10666.245452194624, 10650.792862599397, 10635.40077582405, 10620.06895496159, 10604.797164032654, 10589.585167981893, 10574.432732674351, 10559.339624891856, 10544.305612329435, 10529.330463591737, 10514.413948189469, 10499.555836535852, 10484.755899943086, 10470.013910618829, 10455.329641662685, 10440.702867062726, 10426.133361691996, 10411.620901305065, 10397.165262534558, 10382.766222887725, 10368.423560743022, 10354.137055346691, 10339.906486809365, 10325.731636102686, 10311.612285055926, 10297.548216352641, 10283.539213527318, 10269.585060962037, 10255.685543883166, 10241.840448358053, 10228.049561291711, 10214.312670423575, 10200.629564324203, 10187.000032392038, 10173.423864850158, 10159.900852743067, 10146.430787933436, 10133.013463098945, 10119.648671729072, 10106.336208121902, 10093.075867380989, 10079.867445412177, 10066.71073892048, 10053.605545406921, 10040.551663165455, 10027.548891279836, 10014.597029620532, 10001.695878841649, 9988.845240377852, 9976.044916441326, 9963.294710018714, 9950.59442486809, 9937.94386551595, 9925.342837254182, 9912.791146137082, 9900.288598978374, 9887.835003348218, 9875.430167570272, 9863.073900718717, 9850.766012615339, 9838.506313826583, 9826.29461566066, 9814.130730164617, 9802.014470121465, 9789.94564904728, 9777.92408118835, 9765.949581518302, 9754.021965735257, 9742.141050259, 9730.30665222815, 9718.518589497338, 9706.776680634413, 9695.08074491765, 9683.430602332961, 9671.826073571125, 9660.266980025039, 9648.75314378695, 9637.284387645734, 9625.860535084157, 9614.481410276168, 9603.146838084182, 9591.856644056394, 9580.61065442408, 9569.408696098935, 9558.25059667041, 9547.136184403049, 9536.065288233845, 9525.03773776962, 9514.053363284393, 9503.111995716754, 9492.213466667296, 9481.357608395989, 9470.544253819617, 9459.773236509198, 9449.044390687435, 9438.357551226138, 9427.712553643712, 9417.10923410261, 9406.547429406812, 9396.026976999305, 9385.547714959612, 9375.10948200125, 9364.712117469298, 9354.35546133789, 9344.039354207769, 9333.763637303819, 9323.528152472636, 9313.332742180084, 9303.177249508879, 9293.061518156162, 9282.985392431097, 9272.94871725249, 9262.951338146371, 9252.993101243645, 9243.07385327771, 9233.193441582096, 9223.351714088127, 9213.548519322567, 9203.783706405295, 9194.057125046982, 9184.368625546778, 9174.718058790007, 9165.105276245871, 9155.530129965162, 9145.992472577993, 9136.492157291521, 9127.029037887687, 9117.602968720974, 9108.213804716159, 9098.861401366077, 9089.545614729403, 9080.266301428435, 9071.023318646885, 9061.816524127678, 9052.645776170772, 9043.510933630965, 9034.411855915734, 9025.348402983062, 9016.320435339283, 9007.32781403694, 8998.370400672651, 8989.448057384954, 8980.560646852216, 8971.708032290508, 8962.89007745148, 8954.106646620301, 8945.357604613535, 8936.642816777086, 8927.962148984105, 8919.31546763294, 8910.702639645071, 8902.123532463076, 8893.578014048562, 8885.065952880164, 8876.587217951503, 8868.141678769169, 8859.729205350726, 8851.349668222689, 8843.002938418555, 8834.688887476803, 8826.407387438923, 8818.158310847437, 8809.941530743949, 8801.756920667189, 8793.604354651057, 8785.483707222695, 8777.394853400543, 8769.337668692438, 8761.312029093675, 8753.317811085099, 8745.354891631217, 8737.423148178306, 8729.522458652506, 8721.652701457962, 8713.813755474941, 8706.005500057976, 8698.22781503399, 8690.480580700472, 8682.763677823625, 8675.076987636518, 8667.420391837275, 8659.79377258724, 8652.197012509183, 8644.629994685465, 8637.092602656268, 8629.584720417779, 8622.106232420414, 8614.657023567044, 8607.236979211217, 8599.845985155393, 8592.483927649188, 8585.150693387624, 8577.846169509385, 8570.570243595077, 8563.3228036655, 8556.103738179923, 8548.912936034374, 8541.750286559913, 8534.615679520943, 8527.50900511352, 8520.430153963633, 8513.379017125559, 8506.355486080152, 8499.359452733199, 8492.390809413735, 8485.449448872401, 8478.535264279786, 8471.648149224786, 8464.787997712956, 8457.9547041649, 8451.14816341462, 8444.368270707919, 8437.614921700773, 8430.888012457735, 8424.187439450328, 8417.513099555457, 8410.864890053825, 8404.242708628333, 8397.64645336253, 8391.076022739024, 8384.53131563794, 8378.012231335339, 8371.51866950169, 8365.050530200308, 8358.607713885829, 8352.190121402673, 8345.797653983513, 8339.43021324776, 8333.087701200051, 8326.770020228732, 8320.477073104366, 8314.208762978227, 8307.964993380816, 8301.74566822037, 8295.55069178139, 8289.37996872316, 8283.233404078292, 8277.110903251243, 8271.012372016885, 8264.937716519029, 8258.886843269003, 8252.859659144196, 8246.856071386632, 8240.875987601548, 8234.919315755951, 8228.985964177236, 8223.075841551738, 8217.188856923345, 8211.324919692102, 8205.483939612814, 8199.665826793635, 8193.870491694724, 8188.097845126835, 8182.347798249954, 8176.620262571935, 8170.9151499471345, 8165.232372575057, 8159.571842998994, 8153.933474104693, 8148.317179119013, 8142.722871608572, 8137.150465478443, 8131.599874970803, 8126.07101466364, 8120.563799469412, 8115.078144633751, 8109.613965734157, 8104.1711786787, 8098.749699704724, 8093.349445377551, 8087.970332589207, 8082.612278557141, 8077.27520082294, 8071.959017251081, 8066.663646027639, 8061.389005659056, 8056.135014970862, 8050.901593106449, 8045.688659525799, 8040.496134004269, 8035.323936631349, 8030.17198780942, 8025.040208252546, 8019.928518985241, 8014.836841341266, 8009.765096962401, 8004.71320779725, 7999.681096100041, 7994.668684429428, 7989.675895647297, 7984.702652917567, 7979.748879705033, 7974.81449977417, 7969.899437187962, 7965.003616306734, 7960.126961786991, 7955.269398580254, 7950.430851931909, 7945.6112473800495, 7940.810510754339, 7936.028568174862, 7931.26534605099, 7926.520771080251, 7921.794770247198, 7917.087270822285, 7912.398200360747, 7907.727486701489, 7903.075057965973, 7898.440842557109, 7893.824769158156, 7889.226766731624, 7884.646764518175, 7880.084692035548, 7875.540479077458, 7871.014055712527, 7866.505352283195, 7862.0142994046655, 7857.540827963819, 7853.084869118164, 7848.646354294769, 7844.225215189208, 7839.821383764509, 7835.434792250113, 7831.065373140823, 7826.713059195766, 7822.377783437363, 7818.059479150293, 7813.758079880467, 7809.473519434009, 7805.2057318762345, 7800.954651530625, 7796.720212977845, 7792.502351054701, 7788.301000853167, 7784.116097719362, 7779.947577252577, 7775.795375304263, 7771.6594279770625, 7767.539671623809, 7763.436042846559, 7759.348478495613, 7755.27691566854, 7751.221291709214, 7747.181544206848, 7743.157610995029, 7739.149430150769, 7735.156939993547, 7731.180079084364, 7727.218786224784, 7723.27300045601, 7719.342661057936, 7715.427707548212, 7711.528079681319, 7707.643717447629, 7703.774561072501, 7699.920551015342, 7696.081627968696, 7692.257732857346, 7688.448806837376, 7684.654791295293, 7680.875627847111, 7677.111258337449, 7673.361624838644, 7669.626669649863, 7665.9063352962, 7662.200564527801, 7658.509300318989, 7654.832485867366, 7651.170064592963, 7647.521980137352, 7643.88817636279, 7640.268597351334, 7636.663187404017, 7633.07189103995, 7629.494652995498, 7625.931418223412, 7622.382131891995, 7618.846739384245, 7615.325186297022, 7611.817418440204, 7608.32338183587, 7604.843022717447, 7601.376287528893, 7597.923122923875, 7594.483475764946, 7591.057293122719, 7587.644522275069, 7584.2451107063025, 7580.859006106363, 7577.486156370022, 7574.126509596074, 7570.78001408654, 7567.44661834587, 7564.126271080156, 7560.818921196335, 7557.524517801405, 7554.243010201648, 7550.974347901837, 7547.718480604472, 7544.475358208991, 7541.244930811018, 7538.027148701579, 7534.821962366345, 7531.629322484862, 7528.449179929802, 7525.281485766197, 7522.126191250697, 7518.98324783081, 7515.852607144155, 7512.734221017719, 7509.628041467127, 7506.534020695886, 7503.452111094658, 7500.382265240523, 7497.3244358962575, 7494.278576009599, 7491.244638712523, 7488.222577320523, 7485.212345331895, 7482.213896427021, 7479.2271844676425, 7476.252163496177, 7473.288787734982, 7470.33701158567, 7467.3967896284, 7464.468076621178, 7461.55082749916, 7458.644997373959, 7455.75054153296, 7452.867415438617, 7449.995574727788, 7447.13497521103, 7444.285572871937, 7441.447323866451, 7438.620184522197, 7435.804111337797, 7432.999060982216, 7430.204990294087, 7427.421856281038, 7424.649616119053, 7421.888227151787, 7419.13764688993, 7416.397833010543, 7413.668743356406, 7410.950335935369, 7408.242568919719, 7405.545400645512, 7402.858789611952, 7400.182694480738, 7397.517074075448, 7394.861887380884, 7392.21709354244, 7389.582651865499, 7386.958521814775, 7384.344663013716, 7381.741035243854, 7379.147598444217, 7376.564312710689, 7373.991138295407, 7371.428035606143, 7368.8749652057, 7366.331887811305, 7363.798764294001, 7361.275555678037, 7358.76222314029, 7356.258728009649, 7353.765031766424, 7351.28109604175, 7348.806882617008, 7346.342353423229, 7343.8874705405005, 7341.4421961974, 7339.006492770397, 7336.580322783284, 7334.1636489065995, 7331.75643395704, 7329.358640896913, 7326.9702328335425, 7324.591173018712, 7322.2214248481, 7319.860951860713, 7317.509717738323, 7315.167686304917, 7312.8348215261285, 7310.511087508692, 7308.196448499884, 7305.890868886977, 7303.59431319669, 7301.306746094644, 7299.028132384814, 7296.758437008991, 7294.49762504624, 7292.245661712368, 7290.002512359376, 7287.768142474944, 7285.542517681881, 7283.3256037376095, 7281.117366533632, 7278.91777209501, 7276.726786579832, 7274.5443762787045, 7272.370507614227, 7270.205147140476, 7268.048261542485, 7265.899817635749, 7263.759782365686, 7261.628122807155, 7259.504806163935, 7257.389799768219, 7255.283071080123, 7253.184587687167, 7251.094317303796, 7249.012227770868, 7246.938287055169, 7244.872463248908, 7242.814724569242, 7240.765039357773, 7238.723376080066, 7236.689703325164, 7234.6639898051035, 7232.646204354436, 7230.636315929741, 7228.634293609154, 7226.640106591895, 7224.653724197778, 7222.675115866761, 7220.704251158453, 7218.741099751665, 7216.785631443932, 7214.83781615105, 7212.8976239066105, 7210.965024861553, 7209.039989283681, 7207.1224875572325, 7205.212490182398, 7203.309967774887, 7201.414891065463, 7199.527230899498, 7197.6469582365235, 7195.774044149783, 7193.908459825783, 7192.050176563861, 7190.199165775729, 7188.355398985042, 7186.518847826958, 7184.689484047703, 7182.867279504135, 7181.052206163303, 7179.244236102034, 7177.443341506486, 7175.649494671723, 7173.862668001297, 7172.082834006815, 7170.30996530752, 7168.544034629865, 7166.7850148070975, 7165.032878778847, 7163.287599590689, 7161.549150393752, 7159.817504444291, 7158.092635103282, 7156.374515836008, 7154.663120211651, 7152.958421902894, 7151.260394685498, 7149.569012437911, 7147.884249140871, 7146.20607887699, 7144.534475830365, 7142.86941428618, 7141.210868630307, 7139.558813348916, 7137.913223028082, 7136.274072353382, 7134.641336109524, 7133.014989179948, 7131.395006546439, 7129.781363288746, 7128.174034584198, 7126.572995707318, 7124.9782220294455, 7123.389689018359, 7121.807372237891, 7120.231247347565, 7118.661290102205, 7117.097476351578, 7115.539782040005, 7113.988183206009, 7112.442655981934, 7110.903176593582, 7109.3697213598425, 7107.842266692335, 7106.320789095044, 7104.805265163954, 7103.295671586688, 7101.791985142154, 7100.29418270019, 7098.802241221198, 7097.316137755795, 7095.835849444458, 7094.361353517179, 7092.892627293106, 7091.4296481801985, 7089.9723936748715, 7088.520841361664, 7087.074968912884, 7085.634754088263, 7084.200174734621, 7082.771208785523, 7081.347834260931, 7079.930029266877, 7078.517771995128, 7077.111040722833, 7075.709813812207, 7074.31406971019, 7072.923786948111, 7071.538944141373, 7070.159519989099, 7068.785493273829, 7067.416842861181, 7066.053547699525, 7064.695586819664, 7063.342939334507, 7061.9955844387505, 7060.653501408557, 7059.316669601232, 7057.985068454915, 7056.658677488261, 7055.337476300113, 7054.021444569207, 7052.710562053842, 7051.404808591583, 7050.104164098938, 7048.80860857106, 7047.5181220814275, 7046.232684781549, 7044.952276900652, 7043.676878745376, 7042.406470699474, 7041.141033223513, 7039.880546854561, 7038.624992205903, 7037.374349966736, 7036.128600901861, 7034.887725851411, 7033.651705730532, 7032.420521529103, 7031.194154311438, 7029.972585216001, 7028.7557954551, 7027.543766314624, 7026.336479153726, 7025.133915404559, 7023.936056571978, 7022.742884233253, 7021.554380037798, 7020.370525706882, 7019.19130303334, 7018.016693881301, 7016.846680185915, 7015.681243953059, 7014.520367259069, 7013.364032250468, 7012.212221143687, 7011.0649162247855, 7009.922099849189, 7008.78375444141, 7007.649862494783, 7006.520406571189, 7005.395369300791, 7004.27473338177, 7003.158481580049, 7002.046596729039, 7000.939061729362, 6999.835859548601, 6998.73697322103, 6997.642385847354, 6996.552080594448, 6995.4660406951025, 6994.384249447765, 6993.306690216267, 6992.233346429599, 6991.164201581625, 6990.0992392308435, 6989.038443000139, 6987.98179657651, 6986.929283710844, 6985.880888217644, 6984.836593974794, 6983.7963849233065, 6982.760245067076, 6981.728158472629, 6980.700109268883, 6979.6760816469005, 6978.656059859649, 6977.640028221752, 6976.627971109249, 6975.619872959367, 6974.615718270261, 6973.615491600789, 6972.619177570272, 6971.626760858257, 6970.638226204277, 6969.653558407622, 6968.6727423271, 6967.69576288081, 6966.722605045903, 6965.753253858355, 6964.787694412738, 6963.825911861985, 6962.867891417167, 6961.913618347258, 6960.963077978922, 6960.0162556962705, 6959.073136940649, 6958.1337072104125, 6957.197952060693, 6956.2658571031825, 6955.337408005925, 6954.412590493065, 6953.491390344661, 6952.573793396445, 6951.659785539608, 6950.749352720596, 6949.842480940874, 6948.939156256723, 6948.039364779026, 6947.143092673046, 6946.250326158221, 6945.361051507945, 6944.475255049367, 6943.5929231631635, 6942.7140422833545, 6941.838598897061, 6940.966579544332, 6940.097970817908, 6939.232759363039, 6938.370931877256, 6937.512475110188, 6936.6573758633385, 6935.805620989899, 6934.957197394537, 6934.1120920331905, 6933.2702919128815, 6932.431784091505, 6931.596555677629, 6930.76459383031, 6929.935885758868, 6929.110418722724, 6928.288180031173, 6927.469157043211, 6926.653337167332, 6925.840707861326, 6925.031256632096, 6924.224971035471, 6923.4218386759985, 6922.621847206764, 6921.824984329201, 6921.0312377928985, 6920.240595395416, 6919.4530449820895, 6918.668574445847, 6917.8871717270285, 6917.108824813195, 6916.333521738939, 6915.56125058571, 6914.791999481623, 6914.025756601279, 6913.262510165586, 6912.502248441572, 6911.744959742208, 6910.990632426227, 6910.239254897944, 6909.490815607083, 6908.745303048587, 6908.002705762454, 6907.263012333554, 6906.526211391453, 6905.792291610243, 6905.061241708362, 6904.333050448419, 6903.607706637034, 6902.885199124645, 6902.165516805356, 6901.448648616751, 6900.734583539738, 6900.023310598364, 6899.3148188596615, 6898.609097433465, 6897.906135472254, 6897.205922170988, 6896.508446766924, 6895.813698539474, 6895.121666810021, 6894.432340941759, 6893.74571033954, 6893.0617644497, 6892.380492759892, 6891.701884798941, 6891.0259301366705, 6890.352618383742, 6889.6819391915005, 6889.013882251813, 6888.348437296907, 6887.685594099214, 6887.02534247122, 6886.367672265293, 6885.712573373541, 6885.060035727648, 6884.410049298721, 6883.762604097143, 6883.117690172403, 6882.475297612961, 6881.835416546082, 6881.198037137689, 6880.563149592215, 6879.93074415245, 6879.300811099382, 6878.673340752063, 6878.0483234674475, 6877.425749640251, 6876.8056097027975, 6876.187894124876, 6875.5725934135935, 6874.959698113227, 6874.349198805076, 6873.741086107326, 6873.135350674891, 6872.531983199283, 6871.930974408457, 6871.332315066683, 6870.735995974383, 6870.142007968009, 6869.550341919893, 6868.960988738109, 6868.3739393663245, 6867.789184783678, 6867.2067160046245, 6866.626524078804, 6866.048600090901, 6865.4729351605165, 6864.899520442013, 6864.3283471244, 6863.759406431182, 6863.192689620225, 6862.628187983637, 6862.065892847612, 6861.505795572315, 6860.947887551739, 6860.392160213573, 6859.838605019073, 6859.287213462933, 6858.737977073147, 6858.190887410881, 6857.64593607035, 6857.103114678678, 6856.562414895775, 6856.023828414211, 6855.487346959079, 6854.952962287881, 6854.420666190387, 6853.890450488517, 6853.362307036216, 6852.8362277193255, 6852.312204455454, 6851.7902291938635, 6851.2702939153405, 6850.752390632065, 6850.2365113875, 6849.722648256262, 6849.210793343999, 6848.700938787274, 6848.193076753437, 6847.687199440507, 6847.18329907706, 6846.681367922091, 6846.181398264915, 6845.6833824250325, 6845.187312752025, 6844.693181625423, 6844.200981454604, 6843.710704678659, 6843.222343766292, 6842.735891215694, 6842.2513395544265, 6841.768681339319, 6841.287909156335, 6840.80901562048, 6840.331993375668, 6839.856835094622, 6839.383533478749, 6838.912081258043, 6838.442471190961, 6837.974696064313, 6837.508748693156, 6837.044621920682, 6836.582308618102, 6836.121801684543, 6835.663094046941, 6835.206178659918, 6834.751048505689, 6834.297696593951, 6833.8461159617655, 6833.3962996734645, 6832.94824082053, 6832.501932521507, 6832.057367921873, 6831.614540193952, 6831.173442536804, 6830.734068176116, 6830.296410364102, 6829.8604623793935, 6829.426217526951, 6828.993669137938, 6828.562810569639, 6828.133635205345, 6827.706136454259, 6827.280307751389, 6826.856142557447, 6826.433634358754, 6826.012776667137, 6825.593563019822, 6825.175986979349, 6824.760042133459, 6824.345722095004, 6823.933020501842, 6823.52193101675, 6823.112447327312, 6822.70456314583, 6822.298272209235, 6821.893568278967, 6821.490445140906, 6821.088896605261, 6820.688916506478, 6820.290498703141, 6819.8936370778865, 6819.498325537304, 6819.104558011841, 6818.712328455709, 6818.321630846797, 6817.932459186572, 6817.544807499993, 6817.158669835407, 6816.774040264469, 6816.390912882055, 6816.009281806152, 6815.629141177783, 6815.250485160916, 6814.873307942366, 6814.497603731713, 6814.12336676121, 6813.750591285692, 6813.379271582493, 6813.009401951354, 6812.640976714335, 6812.273990215729, 6811.908436821978, 6811.5443109215785, 6811.181606925, 6810.820319264603, 6810.460442394541, 6810.1019707906935, 6809.74489895056, 6809.389221393192, 6809.0349326591, 6808.682027310179, 6808.330499929604, 6807.980345121769, 6807.6315575121935, 6807.284131747446, 6806.938062495049, 6806.593344443412, 6806.249972301738, 6805.90794079995, 6805.567244688603, 6805.2278787388095, 6804.889837742159, 6804.553116510631, 6804.217709876521, 6803.883612692359, 6803.550819830831, 6803.219326184698, 6802.889126666722, 6802.560216209582, 6802.232589765805, 6801.906242307669, 6801.581168827153, 6801.25736433584, 6800.934823864843, 6800.613542464732, 6800.293515205462, 6799.974737176288, 6799.657203485695, 6799.34090926132, 6799.025849649884, 6798.7120198171015, 6798.399414947627, 6798.08803024496, 6797.777860931391, 6797.468902247912, 6797.161149454152, 6796.854597828298, 6796.549242667034, 6796.245079285452, 6795.942103016994, 6795.64030921337, 6795.339693244494, 6795.0402504984095, 6794.741976381219, 6794.44486631701, 6794.148915747789, 6793.8541201334165, 6793.56047495152, 6793.267975697443, 6792.976617884158, 6792.686397042221, 6792.397308719678, 6792.109348482012, 6791.822511912065, 6791.536794609981, 6791.252192193131, 6790.968700296042, 6790.686314570339, 6790.405030684674, 6790.124844324656, 6789.845751192792, 6789.567747008409, 6789.290827507603, 6789.014988443165, 6788.740225584511, 6788.466534717628, 6788.193911645001, 6787.922352185551, 6787.651852174574, 6787.382407463666, 6787.114013920673, 6786.846667429622, 6786.580363890651, 6786.315099219954, 6786.050869349719, 6785.7876702280555, 6785.525497818944, 6785.264348102168, 6785.004217073251, 6784.745100743398, 6784.486995139432, 6784.229896303731, 6783.973800294175, 6783.718703184074, 6783.464601062119, 6783.211490032313, 6782.959366213916, 6782.708225741382, 6782.458064764301, 6782.208879447339, 6781.960665970184, 6781.713420527481, 6781.467139328771, 6781.221818598444, 6780.977454575667, 6780.73404351434, 6780.491581683025, 6780.250065364901, 6780.0094908576975, 6779.769854473637, 6779.531152539391, 6779.293381396006, 6779.0565373988575, 6778.820616917597, 6778.585616336088, 6778.351532052351, 6778.118360478511, 6777.886098040745, 6777.654741179224, 6777.424286348055, 6777.19473001523, 6776.966068662571, 6776.738298785678, 6776.511416893872, 6776.28541951014, 6776.060303171086, 6775.836064426876, 6775.612699841182, 6775.390205991132, 6775.168579467258, 6774.947816873443, 6774.727914826865, 6774.508869957949, 6774.290678910315, 6774.073338340726, 6773.8568449190325, 6773.641195328128, 6773.426386263894, 6773.212414435146, 6772.9992765635925, 6772.786969383776, 6772.575489643025, 6772.364834101404, 6772.154999531664, 6771.945982719193, 6771.737780461966, 6771.530389570498, 6771.323806867792, 6771.118029189285, 6770.913053382816, 6770.708876308557, 6770.50549483898, 6770.302905858803, 6770.10110626494, 6769.900092966456, 6769.699862884521, 6769.5004129523595, 6769.301740115201, 6769.103841330246, 6768.906713566594, 6768.710353805227, 6768.5147590389415, 6768.319926272312, 6768.125852521638, 6767.932534814905, 6767.739970191736, 6767.5481557033445, 6767.357088412489, 6767.166765393435, 6766.977183731898, 6766.788340525006, 6766.6002328812565, 6766.412857920464, 6766.2262127737295, 6766.040294583376, 6765.855100502926, 6765.670627697042, 6765.486873341487, 6765.303834623093, 6765.121508739697, 6764.939892900113, 6764.75898432408, 6764.57878024223, 6764.399277896034, 6764.220474537765, 6764.042367430455, 6763.864953847857, 6763.688231074394, 6763.512196405122, 6763.336847145695, 6763.1621806123085, 6762.988194131674, 6762.814885040965, 6762.642250687786, 6762.470288430125, 6762.298995636317, 6762.128369684997, 6761.95840796507, 6761.789107875665, 6761.620466826085, 6761.452482235795, 6761.285151534348, 6761.118472161371, 6760.952441566512, 6760.787057209408, 6760.622316559644, 6760.45821709671, 6760.294756309964, 6760.131931698604, 6759.969740771609, 6759.808181047718, 6759.6472500553855, 6759.486945332743, 6759.327264427558, 6759.168204897205, 6759.009764308623, 6758.851940238278, 6758.69473027212, 6758.538132005558, 6758.382143043413, 6758.226760999886, 6758.07198349852, 6757.917808172164, 6757.764232662935, 6757.611254622179, 6757.458871710447, 6757.3070815974415, 6757.155881961996, 6757.005270492032, 6756.855244884518, 6756.705802845448, 6756.556942089793, 6756.408660341478, 6756.260955333331, 6756.1138248070665, 6755.9672665132375, 6755.821278211206, 6755.6758576691, 6755.531002663803, 6755.386710980883, 6755.242980414601, 6755.099808767836, 6754.957193852081, 6754.815133487394, 6754.67362550237, 6754.532667734107, 6754.392258028169, 6754.252394238562, 6754.113074227691, 6753.974295866331, 6753.836057033593, 6753.698355616896, 6753.561189511929, 6753.424556622623, 6753.28845486111, 6753.152882147709, 6753.017836410867, 6752.883315587158, 6752.749317621225, 6752.615840465762, 6752.48288208148, 6752.350440437079, 6752.2185135092, 6752.087099282426, 6751.956195749213, 6751.825800909891, 6751.695912772612, 6751.566529353333, 6751.437648675775, 6751.309268771398, 6751.181387679376, 6751.054003446554, 6750.927114127426, 6750.800717784109, 6750.6748124863, 6750.549396311262, 6750.4244673437815, 6750.300023676145, 6750.176063408114, 6750.052584646882, 6749.929585507063, 6749.807064110647, 6749.685018586981, 6749.563447072733, 6749.442347711872, 6749.321718655634, 6749.201558062486, 6749.081864098117, 6748.962634935396, 6748.8438687543385, 6748.725563742095, 6748.6077180929105, 6748.4903300081005, 6748.3733976960275, 6748.256919372066, 6748.1408932585755, 6748.025317584883, 6747.910190587244, 6747.7955105088195, 6747.681275599656, 6747.567484116644, 6747.454134323505, 6747.341224490758, 6747.22875289569, 6747.116717822341, 6747.005117561462, 6746.893950410504, 6746.783214673579, 6746.672908661443, 6746.563030691468, 6746.453579087605, 6746.34455218038, 6746.2359483068485, 6746.12776581058, 6746.020003041632, 6745.912658356516, 6745.805730118184, 6745.699216696, 6745.593116465706, 6745.48742780941, 6745.382149115555, 6745.277278778889, 6745.172815200452, 6745.068756787539, 6744.965101953687, 6744.86184911864, 6744.758996708335, 6744.656543154865, 6744.554486896473, 6744.452826377505, 6744.35156004841, 6744.2506863656945]\n"
     ]
    }
   ],
   "source": [
    "print(cost_list)"
   ]
  },
  {
   "cell_type": "code",
   "execution_count": 52,
   "metadata": {},
   "outputs": [
    {
     "data": {
      "image/png": "[encoded data removed]",
      "text/plain": [
       "<Figure size 432x288 with 1 Axes>"
      ]
     },
     "metadata": {
      "needs_background": "light"
     },
     "output_type": "display_data"
    }
   ],
   "source": [
    "plt.plot(cost_list);"
   ]
  },
  {
   "cell_type": "code",
   "execution_count": null,
   "metadata": {},
   "outputs": [],
   "source": []
  },
  {
   "cell_type": "markdown",
   "metadata": {},
   "source": [
    "#### Predict y values using the LR equation\n",
    "##### h(x)= theta_0 + theta_1 * x1 + theta_2 * x2 + theta_3 * x3"
   ]
  },
  {
   "cell_type": "code",
   "execution_count": 53,
   "metadata": {},
   "outputs": [
    {
     "name": "stdout",
     "output_type": "stream",
     "text": [
      "[152 185 180 196 142 101 149 115 175 164 141 141 184 152 148 192 147 183\n",
      " 177 159 177 175 175 149 192]\n"
     ]
    }
   ],
   "source": [
    "print(y)"
   ]
  },
  {
   "cell_type": "code",
   "execution_count": 54,
   "metadata": {},
   "outputs": [],
   "source": [
    "y_pred = x @ theta[-1]"
   ]
  },
  {
   "cell_type": "code",
   "execution_count": 55,
   "metadata": {},
   "outputs": [
    {
     "data": {
      "text/plain": [
       "array([162.56713711, 196.29764471, 192.8658098 , 210.20299264,\n",
       "       149.95752419, 111.20966568, 157.55806566, 117.00528554,\n",
       "       184.01507033, 171.07841885, 151.91147602, 150.34665866,\n",
       "       199.02572577, 165.32419627, 158.46052647, 199.29894785,\n",
       "       157.54150675, 188.837854  , 189.57886539, 169.62951389,\n",
       "       184.71054471, 184.34624861, 175.98813682, 163.41164172,\n",
       "       203.1447556 ])"
      ]
     },
     "execution_count": 55,
     "metadata": {},
     "output_type": "execute_result"
    }
   ],
   "source": [
    "y_pred"
   ]
  },
  {
   "cell_type": "markdown",
   "metadata": {},
   "source": [
    "### Plot loss vs. iterations"
   ]
  },
  {
   "cell_type": "code",
   "execution_count": 56,
   "metadata": {
    "scrolled": false
   },
   "outputs": [
    {
     "data": {
      "image/png": "[encoded data removed]",
      "text/plain": [
       "<Figure size 432x288 with 1 Axes>"
      ]
     },
     "metadata": {
      "needs_background": "light"
     },
     "output_type": "display_data"
    }
   ],
   "source": [
    "plt.title('Cost Function J')\n",
    "plt.xlabel('No. of iterations')\n",
    "plt.ylabel('Cost')\n",
    "plt.plot(cost_list)\n",
    "plt.show()"
   ]
  },
  {
   "cell_type": "markdown",
   "metadata": {},
   "source": [
    "#### Use R2 score to evaluate LR equation output"
   ]
  },
  {
   "cell_type": "code",
   "execution_count": 57,
   "metadata": {},
   "outputs": [
    {
     "data": {
      "text/plain": [
       "0.8089164450909526"
      ]
     },
     "execution_count": 57,
     "metadata": {},
     "output_type": "execute_result"
    }
   ],
   "source": [
    "from sklearn.metrics import r2_score\n",
    "r2_score(y, y_pred)"
   ]
  },
  {
   "cell_type": "markdown",
   "metadata": {},
   "source": [
    "# Bonus\n",
    "## LR Using sklearn"
   ]
  },
  {
   "cell_type": "markdown",
   "metadata": {},
   "source": [
    "### Single Variable"
   ]
  },
  {
   "cell_type": "code",
   "execution_count": 58,
   "metadata": {},
   "outputs": [],
   "source": [
    "x=df.iloc[: , :-1].values\n",
    "y=df.iloc[: , -1].values"
   ]
  },
  {
   "cell_type": "code",
   "execution_count": 59,
   "metadata": {},
   "outputs": [
    {
     "data": {
      "text/plain": [
       "(13, 1)"
      ]
     },
     "execution_count": 59,
     "metadata": {},
     "output_type": "execute_result"
    }
   ],
   "source": [
    "x.shape"
   ]
  },
  {
   "cell_type": "code",
   "execution_count": 60,
   "metadata": {},
   "outputs": [
    {
     "data": {
      "text/plain": [
       "array([[2.9000001 ],\n",
       "       [6.69999981],\n",
       "       [4.9000001 ],\n",
       "       [7.9000001 ],\n",
       "       [9.80000019],\n",
       "       [6.9000001 ],\n",
       "       [6.0999999 ],\n",
       "       [6.19999981],\n",
       "       [6.        ],\n",
       "       [5.0999999 ],\n",
       "       [4.69999981],\n",
       "       [4.4000001 ],\n",
       "       [5.80000019]])"
      ]
     },
     "execution_count": 60,
     "metadata": {},
     "output_type": "execute_result"
    }
   ],
   "source": [
    "x"
   ]
  },
  {
   "cell_type": "code",
   "execution_count": 61,
   "metadata": {},
   "outputs": [
    {
     "data": {
      "text/plain": [
       "(13,)"
      ]
     },
     "execution_count": 61,
     "metadata": {},
     "output_type": "execute_result"
    }
   ],
   "source": [
    "y.shape"
   ]
  },
  {
   "cell_type": "markdown",
   "metadata": {},
   "source": [
    "#### Build a LR model usin linearmodel.LinearRegression() from sklearn library"
   ]
  },
  {
   "cell_type": "code",
   "execution_count": 62,
   "metadata": {},
   "outputs": [],
   "source": [
    "from sklearn import linear_model"
   ]
  },
  {
   "cell_type": "code",
   "execution_count": 63,
   "metadata": {},
   "outputs": [],
   "source": [
    "regr = linear_model.LinearRegression()\n"
   ]
  },
  {
   "cell_type": "markdown",
   "metadata": {},
   "source": [
    "#### Train the model (fit the model to the training data)"
   ]
  },
  {
   "cell_type": "code",
   "execution_count": 64,
   "metadata": {},
   "outputs": [
    {
     "data": {
      "text/plain": [
       "LinearRegression()"
      ]
     },
     "execution_count": 64,
     "metadata": {},
     "output_type": "execute_result"
    }
   ],
   "source": [
    "regr.fit(x, y)"
   ]
  },
  {
   "cell_type": "markdown",
   "metadata": {},
   "source": [
    "#### Predict y values using the trained model"
   ]
  },
  {
   "cell_type": "code",
   "execution_count": 65,
   "metadata": {},
   "outputs": [],
   "source": [
    "y_pred = regr.predict(x)"
   ]
  },
  {
   "cell_type": "code",
   "execution_count": 66,
   "metadata": {},
   "outputs": [
    {
     "data": {
      "text/plain": [
       "array([3.44824549, 6.08745623, 4.83730388, 6.92089146, 8.240497  ,\n",
       "       6.22636227, 5.67073878, 5.74019163, 5.60128593, 4.97620959,\n",
       "       4.69839784, 4.49003928, 5.46238022])"
      ]
     },
     "execution_count": 66,
     "metadata": {},
     "output_type": "execute_result"
    }
   ],
   "source": [
    "y_pred"
   ]
  },
  {
   "cell_type": "code",
   "execution_count": 67,
   "metadata": {},
   "outputs": [
    {
     "data": {
      "text/plain": [
       "array([4.        , 7.4000001 , 5.        , 7.19999981, 7.9000001 ,\n",
       "       6.0999999 , 6.        , 5.80000019, 5.19999981, 4.19999981,\n",
       "       4.        , 4.4000001 , 5.19999981])"
      ]
     },
     "execution_count": 67,
     "metadata": {},
     "output_type": "execute_result"
    }
   ],
   "source": [
    "y"
   ]
  },
  {
   "cell_type": "markdown",
   "metadata": {},
   "source": [
    "#### Plot model output (fitted line) with the original data (scatter plot of X,y)"
   ]
  },
  {
   "cell_type": "code",
   "execution_count": 68,
   "metadata": {},
   "outputs": [
    {
     "data": {
      "text/plain": [
       "[<matplotlib.lines.Line2D at 0x1419ae20730>]"
      ]
     },
     "execution_count": 68,
     "metadata": {},
     "output_type": "execute_result"
    },
    {
     "data": {
      "image/png": "[encoded data removed]",
      "text/plain": [
       "<Figure size 432x288 with 1 Axes>"
      ]
     },
     "metadata": {
      "needs_background": "light"
     },
     "output_type": "display_data"
    }
   ],
   "source": [
    "plt.scatter(x , y)\n",
    "plt.plot(x,y_pred)"
   ]
  },
  {
   "cell_type": "markdown",
   "metadata": {},
   "source": [
    "#### Use R2 score to evaluate model output"
   ]
  },
  {
   "cell_type": "code",
   "execution_count": 69,
   "metadata": {},
   "outputs": [
    {
     "data": {
      "text/plain": [
       "0.8213156778363777"
      ]
     },
     "execution_count": 69,
     "metadata": {},
     "output_type": "execute_result"
    }
   ],
   "source": [
    "r2_score(y, y_pred)"
   ]
  },
  {
   "cell_type": "markdown",
   "metadata": {},
   "source": [
    "### Repeat for Mulivariate"
   ]
  },
  {
   "cell_type": "code",
   "execution_count": 70,
   "metadata": {},
   "outputs": [],
   "source": [
    "x=df2.iloc[:, :-1].values\n",
    "y=df2.iloc[: , -1].values"
   ]
  },
  {
   "cell_type": "code",
   "execution_count": 71,
   "metadata": {},
   "outputs": [
    {
     "data": {
      "text/plain": [
       "array([[ 73,  80,  75],\n",
       "       [ 93,  88,  93],\n",
       "       [ 89,  91,  90],\n",
       "       [ 96,  98, 100],\n",
       "       [ 73,  66,  70],\n",
       "       [ 53,  46,  55],\n",
       "       [ 69,  74,  77],\n",
       "       [ 47,  56,  60],\n",
       "       [ 87,  79,  90],\n",
       "       [ 79,  70,  88],\n",
       "       [ 69,  70,  73],\n",
       "       [ 70,  65,  74],\n",
       "       [ 93,  95,  91],\n",
       "       [ 79,  80,  73],\n",
       "       [ 70,  73,  78],\n",
       "       [ 93,  89,  96],\n",
       "       [ 78,  75,  68],\n",
       "       [ 81,  90,  93],\n",
       "       [ 88,  92,  86],\n",
       "       [ 78,  83,  77],\n",
       "       [ 82,  86,  90],\n",
       "       [ 86,  82,  89],\n",
       "       [ 78,  83,  85],\n",
       "       [ 76,  83,  71],\n",
       "       [ 96,  93,  95]], dtype=int64)"
      ]
     },
     "execution_count": 71,
     "metadata": {},
     "output_type": "execute_result"
    }
   ],
   "source": [
    "x"
   ]
  },
  {
   "cell_type": "code",
   "execution_count": 72,
   "metadata": {},
   "outputs": [
    {
     "data": {
      "text/plain": [
       "array([152, 185, 180, 196, 142, 101, 149, 115, 175, 164, 141, 141, 184,\n",
       "       152, 148, 192, 147, 183, 177, 159, 177, 175, 175, 149, 192],\n",
       "      dtype=int64)"
      ]
     },
     "execution_count": 72,
     "metadata": {},
     "output_type": "execute_result"
    }
   ],
   "source": [
    "y"
   ]
  },
  {
   "cell_type": "code",
   "execution_count": 73,
   "metadata": {},
   "outputs": [
    {
     "data": {
      "text/plain": [
       "LinearRegression()"
      ]
     },
     "execution_count": 73,
     "metadata": {},
     "output_type": "execute_result"
    }
   ],
   "source": [
    "regr.fit(x, y)"
   ]
  },
  {
   "cell_type": "code",
   "execution_count": 74,
   "metadata": {},
   "outputs": [],
   "source": [
    "y_pred = regr.predict(x)"
   ]
  },
  {
   "cell_type": "code",
   "execution_count": 75,
   "metadata": {},
   "outputs": [
    {
     "data": {
      "text/plain": [
       "array([152.60720439, 185.08011472, 181.78158547, 199.74522647,\n",
       "       139.1747207 , 103.69391793, 150.2632274 , 112.82069728,\n",
       "       174.55948394, 164.49442094, 143.42337551, 142.23416416,\n",
       "       186.54285759, 152.40794527, 151.24409108, 189.12496613,\n",
       "       143.50219218, 181.89389361, 177.29838914, 158.34934019,\n",
       "       176.57742415, 174.66365778, 167.68889392, 150.63279846,\n",
       "       191.1954116 ])"
      ]
     },
     "execution_count": 75,
     "metadata": {},
     "output_type": "execute_result"
    }
   ],
   "source": [
    "y_pred"
   ]
  },
  {
   "cell_type": "code",
   "execution_count": 76,
   "metadata": {},
   "outputs": [
    {
     "data": {
      "text/plain": [
       "0.9896615789448399"
      ]
     },
     "execution_count": 76,
     "metadata": {},
     "output_type": "execute_result"
    }
   ],
   "source": [
    "r2_score(y, y_pred)"
   ]
  },
  {
   "cell_type": "code",
   "execution_count": null,
   "metadata": {},
   "outputs": [],
   "source": []
  }
 ],
 "metadata": {
  "kernelspec": {
   "display_name": "Python 3 (ipykernel)",
   "language": "python",
   "name": "python3"
  },
  "language_info": {
   "codemirror_mode": {
    "name": "ipython",
    "version": 3
   },
   "file_extension": ".py",
   "mimetype": "text/x-python",
   "name": "python",
   "nbconvert_exporter": "python",
   "pygments_lexer": "ipython3",
   "version": "3.10.4"
  }
 },
 "nbformat": 4,
 "nbformat_minor": 4
}
